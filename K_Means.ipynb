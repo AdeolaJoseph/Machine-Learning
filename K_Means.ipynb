{
  "nbformat": 4,
  "nbformat_minor": 0,
  "metadata": {
    "colab": {
      "provenance": []
    },
    "kernelspec": {
      "name": "python3",
      "display_name": "Python 3"
    },
    "language_info": {
      "name": "python"
    }
  },
  "cells": [
    {
      "cell_type": "markdown",
      "source": [
        "# Lab 8 (part A): K-means clustering "
      ],
      "metadata": {
        "id": "_E4hAswMB4za"
      }
    },
    {
      "cell_type": "markdown",
      "source": [
        "K-Means is an unsupervised clustering algorithm. It is used when we have unlabeled data. The objective of this algorithm is to find “K” groups (clusters) among the raw data."
      ],
      "metadata": {
        "id": "FSYAU8GclAmq"
      }
    },
    {
      "cell_type": "code",
      "source": [
        "from sklearn.cluster import KMeans\n",
        "import numpy as np\n",
        "import matplotlib.pyplot as plt\n",
        "import pandas as pd"
      ],
      "metadata": {
        "id": "xV-YdVmGf_fv"
      },
      "execution_count": 1,
      "outputs": []
    },
    {
      "cell_type": "markdown",
      "source": [
        "Here we have a small unlabeled 2D dataset."
      ],
      "metadata": {
        "id": "u6jpNnXGCaUi"
      }
    },
    {
      "cell_type": "code",
      "execution_count": 2,
      "metadata": {
        "id": "KiJHMqsWXYsM"
      },
      "outputs": [],
      "source": [
        "# Dataset\n",
        "X = np.array([[5,5], [4,26], [7,35], [18,30], [10,20], [16,13], [20,20], [19,27], [15, 25],\\\n",
        "                   [25,53], [32,56], [37,47], [28,48], [34,46], [27,43], [36,40], [32,44],\\\n",
        "                   [33,17], [39,18], [53,24], [48,18], [53,15], [45,13], [37,12], [35,5], [42,7]])\n"
      ]
    },
    {
      "cell_type": "markdown",
      "source": [
        "Plot the data and analyze it. At first sight, how many clusters do you identify?\n",
        "\n",
        "\n",
        "<font color=\"red\"> I identified 3 clusters </font>"
      ],
      "metadata": {
        "id": "14lorkQKCjB4"
      }
    },
    {
      "cell_type": "code",
      "source": [
        "# TO DO: Plot the data using plt.scatter\n",
        "# _________TO DO_________\n",
        "\n",
        "plt.scatter(X[:, 0], X[:, 1])\n",
        "plt.xlabel('x')\n",
        "plt.ylabel('y')\n",
        "plt.title('Data visualization')"
      ],
      "metadata": {
        "id": "0Hrj1w4vCSpF",
        "colab": {
          "base_uri": "https://localhost:8080/",
          "height": 312
        },
        "outputId": "a0306427-f879-4802-ebf0-d1a17ab463a4"
      },
      "execution_count": 3,
      "outputs": [
        {
          "output_type": "execute_result",
          "data": {
            "text/plain": [
              "Text(0.5, 1.0, 'Data visualization')"
            ]
          },
          "metadata": {},
          "execution_count": 3
        },
        {
          "output_type": "display_data",
          "data": {
            "text/plain": [
              "<Figure size 432x288 with 1 Axes>"
            ],
            "image/png": "[encoded data removed]"
          },
          "metadata": {
            "needs_background": "light"
          }
        }
      ]
    },
    {
      "cell_type": "markdown",
      "source": [
        "After analyzing the data, we are going to create a K-Means Classifier. We provided you the code to create the classifier, predict the labels and plot the results. ***Use the number of clusters you visually identified previously.*** ***Change the color of the centrids plotted to black.***"
      ],
      "metadata": {
        "id": "4_hjda8cCtpI"
      }
    },
    {
      "cell_type": "code",
      "source": [
        "# TO DO: Define the number of clusters desired\n",
        "num_clusters = 3# _________TO DO_________\n",
        "# Create the KMeans classifier\n",
        "kmeans = KMeans(n_clusters=num_clusters).fit(X)\n",
        "#predict the labels of clusters\n",
        "label = np.array([kmeans.fit_predict(X)])\n",
        "\n",
        "# Extract centroids of clusters\n",
        "centroids = kmeans.cluster_centers_\n",
        "\n",
        "# Stack data and predicted labels\n",
        "results = np.hstack((X,label.T))\n",
        "\n",
        "# Plot the centroids\n",
        "# TO DO: Change the color of the centrids plotted to black\n",
        "plt.scatter(centroids[:,0] , centroids[:,1], s = 80, label = \"Centroids\", color= \"black\") # _________TO DO_________\n",
        "# Plot the results\n",
        "for i in range(0,num_clusters):\n",
        "    # Filter results with label i\n",
        "    X_filtered = results[(results[:,2]==i)]\n",
        "    # Plot results with label i\n",
        "    plt.scatter(X_filtered[:,0] , X_filtered[:,1] , label = \"Cluster \"+str(i))\n",
        "plt.legend()\n",
        "plt.show()"
      ],
      "metadata": {
        "id": "Qt7JnqYgf9al",
        "colab": {
          "base_uri": "https://localhost:8080/",
          "height": 265
        },
        "outputId": "244ce527-2287-44d3-d531-31e8fdc167b3"
      },
      "execution_count": 4,
      "outputs": [
        {
          "output_type": "display_data",
          "data": {
            "text/plain": [
              "<Figure size 432x288 with 1 Axes>"
            ],
            "image/png": "[encoded data removed]"
          },
          "metadata": {
            "needs_background": "light"
          }
        }
      ]
    },
    {
      "cell_type": "markdown",
      "source": [
        "## **Elbow Method**"
      ],
      "metadata": {
        "id": "E6Yr4AO5FKHw"
      }
    },
    {
      "cell_type": "markdown",
      "source": [
        "A fundamental step for any unsupervised algorithm is to determine the optimal number of clusters into which the data may be clustered. Normally it will be best if you previously know the number of clusters you want to have. In case you don't know this number, the Elbow Method is one of the most popular methods to determine this optimal value of K.\n",
        "\n",
        "In the Elbow method, we are actually varying the number of clusters \"K\" from 1 to 10. For each value of K, we are calculating the WCSS (Within-Cluster Sum of Square), which is the sum of squared distance between each point and the centroid in a cluster. When we plot the WCSS with the K value, the plot looks similar to an Elbow. As the number of clusters increases, the WCSS value will start to decrease. WCSS value is largest when K = 1. When we analyze the graph we can see that the graph will rapidly change at a point and thus creating an elbow shape. From this point, the graph starts to move almost parallel to the X-axis. The K value corresponding to this point is the optimal K value or an optimal number of clusters.\n",
        "\n",
        "![image.png](data:image/png;base64,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)"
      ],
      "metadata": {
        "id": "gULDP05bBYwR"
      }
    },
    {
      "cell_type": "markdown",
      "source": [
        "\n",
        "\n",
        "---\n",
        "\n"
      ],
      "metadata": {
        "id": "UMQW8AW1H9kj"
      }
    },
    {
      "cell_type": "markdown",
      "source": [
        "The dataset we are going to use here is a [Mall Customers Dataset](https://www.kaggle.com/datasets/shwetabh123/mall-customers). It’s unlabeled data that contains the gender, age, annual income(in thousands of dollars), and spending score of customers in a mall. The aim is to cluster the customers based on the annual income and spending score. \n",
        "\n",
        "First, run the following cell and load the \"Mall_Customers.csv\" file from your disk. This cells loads the .CSV file and extracts the annual income and spending score in the valiable X."
      ],
      "metadata": {
        "id": "WF8zSIE5H-6k"
      }
    },
    {
      "cell_type": "code",
      "source": [
        "from google.colab import files\n",
        "# Upload the file from disk\n",
        "uploaded = files.upload()\n",
        "# Read the .CSV file and store the data in a pandas dataset\n",
        "dataset = pd.read_csv('Mall_Customers.csv')\n",
        "#Extract the desired features\n",
        "X = dataset.iloc[:, [3, 4]].values"
      ],
      "metadata": {
        "id": "BhnrwvT2I1FN",
        "colab": {
          "base_uri": "https://localhost:8080/",
          "height": 73
        },
        "outputId": "2e270307-f021-4638-fae1-2be529a34a00"
      },
      "execution_count": 5,
      "outputs": [
        {
          "output_type": "display_data",
          "data": {
            "text/plain": [
              "<IPython.core.display.HTML object>"
            ],
            "text/html": [
              "\n",
              "     <input type=\"file\" id=\"files-790369fb-2b22-4eff-ba65-e51dbd97497e\" name=\"files[]\" multiple disabled\n",
              "        style=\"border:none\" />\n",
              "     <output id=\"result-790369fb-2b22-4eff-ba65-e51dbd97497e\">\n",
              "      Upload widget is only available when the cell has been executed in the\n",
              "      current browser session. Please rerun this cell to enable.\n",
              "      </output>\n",
              "      <script>// Copyright 2017 Google LLC\n",
              "//\n",
              "// Licensed under the Apache License, Version 2.0 (the \"License\");\n",
              "// you may not use this file except in compliance with the License.\n",
              "// You may obtain a copy of the License at\n",
              "//\n",
              "//      http://www.apache.org/licenses/LICENSE-2.0\n",
              "//\n",
              "// Unless required by applicable law or agreed to in writing, software\n",
              "// distributed under the License is distributed on an \"AS IS\" BASIS,\n",
              "// WITHOUT WARRANTIES OR CONDITIONS OF ANY KIND, either express or implied.\n",
              "// See the License for the specific language governing permissions and\n",
              "// limitations under the License.\n",
              "\n",
              "/**\n",
              " * @fileoverview Helpers for google.colab Python module.\n",
              " */\n",
              "(function(scope) {\n",
              "function span(text, styleAttributes = {}) {\n",
              "  const element = document.createElement('span');\n",
              "  element.textContent = text;\n",
              "  for (const key of Object.keys(styleAttributes)) {\n",
              "    element.style[key] = styleAttributes[key];\n",
              "  }\n",
              "  return element;\n",
              "}\n",
              "\n",
              "// Max number of bytes which will be uploaded at a time.\n",
              "const MAX_PAYLOAD_SIZE = 100 * 1024;\n",
              "\n",
              "function _uploadFiles(inputId, outputId) {\n",
              "  const steps = uploadFilesStep(inputId, outputId);\n",
              "  const outputElement = document.getElementById(outputId);\n",
              "  // Cache steps on the outputElement to make it available for the next call\n",
              "  // to uploadFilesContinue from Python.\n",
              "  outputElement.steps = steps;\n",
              "\n",
              "  return _uploadFilesContinue(outputId);\n",
              "}\n",
              "\n",
              "// This is roughly an async generator (not supported in the browser yet),\n",
              "// where there are multiple asynchronous steps and the Python side is going\n",
              "// to poll for completion of each step.\n",
              "// This uses a Promise to block the python side on completion of each step,\n",
              "// then passes the result of the previous step as the input to the next step.\n",
              "function _uploadFilesContinue(outputId) {\n",
              "  const outputElement = document.getElementById(outputId);\n",
              "  const steps = outputElement.steps;\n",
              "\n",
              "  const next = steps.next(outputElement.lastPromiseValue);\n",
              "  return Promise.resolve(next.value.promise).then((value) => {\n",
              "    // Cache the last promise value to make it available to the next\n",
              "    // step of the generator.\n",
              "    outputElement.lastPromiseValue = value;\n",
              "    return next.value.response;\n",
              "  });\n",
              "}\n",
              "\n",
              "/**\n",
              " * Generator function which is called between each async step of the upload\n",
              " * process.\n",
              " * @param {string} inputId Element ID of the input file picker element.\n",
              " * @param {string} outputId Element ID of the output display.\n",
              " * @return {!Iterable<!Object>} Iterable of next steps.\n",
              " */\n",
              "function* uploadFilesStep(inputId, outputId) {\n",
              "  const inputElement = document.getElementById(inputId);\n",
              "  inputElement.disabled = false;\n",
              "\n",
              "  const outputElement = document.getElementById(outputId);\n",
              "  outputElement.innerHTML = '';\n",
              "\n",
              "  const pickedPromise = new Promise((resolve) => {\n",
              "    inputElement.addEventListener('change', (e) => {\n",
              "      resolve(e.target.files);\n",
              "    });\n",
              "  });\n",
              "\n",
              "  const cancel = document.createElement('button');\n",
              "  inputElement.parentElement.appendChild(cancel);\n",
              "  cancel.textContent = 'Cancel upload';\n",
              "  const cancelPromise = new Promise((resolve) => {\n",
              "    cancel.onclick = () => {\n",
              "      resolve(null);\n",
              "    };\n",
              "  });\n",
              "\n",
              "  // Wait for the user to pick the files.\n",
              "  const files = yield {\n",
              "    promise: Promise.race([pickedPromise, cancelPromise]),\n",
              "    response: {\n",
              "      action: 'starting',\n",
              "    }\n",
              "  };\n",
              "\n",
              "  cancel.remove();\n",
              "\n",
              "  // Disable the input element since further picks are not allowed.\n",
              "  inputElement.disabled = true;\n",
              "\n",
              "  if (!files) {\n",
              "    return {\n",
              "      response: {\n",
              "        action: 'complete',\n",
              "      }\n",
              "    };\n",
              "  }\n",
              "\n",
              "  for (const file of files) {\n",
              "    const li = document.createElement('li');\n",
              "    li.append(span(file.name, {fontWeight: 'bold'}));\n",
              "    li.append(span(\n",
              "        `(${file.type || 'n/a'}) - ${file.size} bytes, ` +\n",
              "        `last modified: ${\n",
              "            file.lastModifiedDate ? file.lastModifiedDate.toLocaleDateString() :\n",
              "                                    'n/a'} - `));\n",
              "    const percent = span('0% done');\n",
              "    li.appendChild(percent);\n",
              "\n",
              "    outputElement.appendChild(li);\n",
              "\n",
              "    const fileDataPromise = new Promise((resolve) => {\n",
              "      const reader = new FileReader();\n",
              "      reader.onload = (e) => {\n",
              "        resolve(e.target.result);\n",
              "      };\n",
              "      reader.readAsArrayBuffer(file);\n",
              "    });\n",
              "    // Wait for the data to be ready.\n",
              "    let fileData = yield {\n",
              "      promise: fileDataPromise,\n",
              "      response: {\n",
              "        action: 'continue',\n",
              "      }\n",
              "    };\n",
              "\n",
              "    // Use a chunked sending to avoid message size limits. See b/62115660.\n",
              "    let position = 0;\n",
              "    do {\n",
              "      const length = Math.min(fileData.byteLength - position, MAX_PAYLOAD_SIZE);\n",
              "      const chunk = new Uint8Array(fileData, position, length);\n",
              "      position += length;\n",
              "\n",
              "      const base64 = btoa(String.fromCharCode.apply(null, chunk));\n",
              "      yield {\n",
              "        response: {\n",
              "          action: 'append',\n",
              "          file: file.name,\n",
              "          data: base64,\n",
              "        },\n",
              "      };\n",
              "\n",
              "      let percentDone = fileData.byteLength === 0 ?\n",
              "          100 :\n",
              "          Math.round((position / fileData.byteLength) * 100);\n",
              "      percent.textContent = `${percentDone}% done`;\n",
              "\n",
              "    } while (position < fileData.byteLength);\n",
              "  }\n",
              "\n",
              "  // All done.\n",
              "  yield {\n",
              "    response: {\n",
              "      action: 'complete',\n",
              "    }\n",
              "  };\n",
              "}\n",
              "\n",
              "scope.google = scope.google || {};\n",
              "scope.google.colab = scope.google.colab || {};\n",
              "scope.google.colab._files = {\n",
              "  _uploadFiles,\n",
              "  _uploadFilesContinue,\n",
              "};\n",
              "})(self);\n",
              "</script> "
            ]
          },
          "metadata": {}
        },
        {
          "output_type": "stream",
          "name": "stdout",
          "text": [
            "Saving Mall_Customers.csv to Mall_Customers (1).csv\n"
          ]
        }
      ]
    },
    {
      "cell_type": "markdown",
      "source": [
        "When we have the desired data, we have to compute the WCSS value (also known as inertia) for each value from 1 to 10. ***For each K value, create the K-Means Classifier, fit the X data and save the inertia value.***"
      ],
      "metadata": {
        "id": "M11NGEYMKOfV"
      }
    },
    {
      "cell_type": "code",
      "source": [
        "# Array to store the WCSS values\n",
        "wcss = [] \n",
        "# For each K value\n",
        "for i in range(1, 11): \n",
        "    # TO DO: Create a K-Means Classifier with K=i\n",
        "    kmeans = KMeans(n_clusters=i).fit(X)# _________TO DO_________\n",
        "    # TO DO: Save the inertia value in the wcss array\n",
        "    wcss.append(kmeans.inertia_)\n",
        "\n",
        "print(f\"wcss = {wcss}\")"
      ],
      "metadata": {
        "id": "eu_aedSRJP80",
        "colab": {
          "base_uri": "https://localhost:8080/"
        },
        "outputId": "c7419f43-56ba-4a7c-8e17-41a4e722bfb0"
      },
      "execution_count": 6,
      "outputs": [
        {
          "output_type": "stream",
          "name": "stdout",
          "text": [
            "wcss = [269981.28, 181363.59595959593, 106348.37306211122, 73679.78903948836, 44448.4554479337, 37233.814510710006, 31248.853151807474, 25005.55037243283, 22813.907850185533, 19641.456216651564]\n"
          ]
        }
      ]
    },
    {
      "cell_type": "markdown",
      "source": [
        "Now that we have the WCSS values, plot the resulting \"Elbow\". ***Which is the optimal K value?***\n",
        "\n",
        "\n",
        "<font color=\"red\"> The optimal value of <b>k</b> for tha <b>Mall_Customers dataset</b> is 5</font>"
      ],
      "metadata": {
        "id": "uny9UuCWLS9c"
      }
    },
    {
      "cell_type": "code",
      "source": [
        "# Plot the WCSS with the K value\n",
        "plt.plot(range(1, 11), wcss)\n",
        "plt.title(\"Elbow Method for Mall_Customers Dataset Optimal K\")\n",
        "plt.xlabel(\"Number of Clusters K\")\n",
        "plt.ylabel(\"WCSS\")\n",
        "plt.show()"
      ],
      "metadata": {
        "id": "9R71IeP1JVMI",
        "colab": {
          "base_uri": "https://localhost:8080/",
          "height": 295
        },
        "outputId": "97a3bb25-5cb1-4ef9-9fc4-c61e9745bd05"
      },
      "execution_count": 7,
      "outputs": [
        {
          "output_type": "display_data",
          "data": {
            "text/plain": [
              "<Figure size 432x288 with 1 Axes>"
            ],
            "image/png": "[encoded data removed]"
          },
          "metadata": {
            "needs_background": "light"
          }
        }
      ]
    },
    {
      "cell_type": "markdown",
      "source": [
        "Using the first example we had, ***create the K-Means Classifier with the optimal K value and plot the clustered data.***"
      ],
      "metadata": {
        "id": "fmiANlXHLh79"
      }
    },
    {
      "cell_type": "code",
      "source": [
        "# TO DO: create the K-Means Classifier with the optimal K value and plot the clustered data\n",
        "kmeans = KMeans(n_clusters=5).fit(X)# _________TO DO_________\n",
        "\n",
        "#predict the labels of clusters\n",
        "label = np.array([kmeans.fit_predict(X)])\n",
        "\n",
        "# Extract centroids of clusters\n",
        "centroids = kmeans.cluster_centers_\n",
        "\n",
        "# Stack data and predicted labels\n",
        "results = np.hstack((X,label.T))\n",
        "\n",
        "# Plot the centroids\n",
        "# TO DO: Change the color of the centrids plotted to black\n",
        "plt.scatter(centroids[:,0] , centroids[:,1], s = 80, label = \"Centroids\", color= 'black') # _________TO DO_________\n",
        "# Plot the results\n",
        "for i in range(0,5):\n",
        "    # Filter results with label i\n",
        "    X_filtered = results[(results[:,2]==i)]\n",
        "    # Plot results with label i\n",
        "    plt.scatter(X_filtered[:,0] , X_filtered[:,1] , label = \"Cluster \"+str(i))\n",
        "plt.legend()\n",
        "plt.show()"
      ],
      "metadata": {
        "id": "mTFKxPh2Jfjv",
        "colab": {
          "base_uri": "https://localhost:8080/",
          "height": 265
        },
        "outputId": "064a3d63-4e51-4ed1-a5a9-ecb8b5faf901"
      },
      "execution_count": 8,
      "outputs": [
        {
          "output_type": "display_data",
          "data": {
            "text/plain": [
              "<Figure size 432x288 with 1 Axes>"
            ],
            "image/png": "[encoded data removed]"
          },
          "metadata": {
            "needs_background": "light"
          }
        }
      ]
    },
    {
      "cell_type": "markdown",
      "source": [
        "\n",
        "\n",
        "---\n",
        "\n"
      ],
      "metadata": {
        "id": "BAcGbki3Pdfj"
      }
    },
    {
      "cell_type": "markdown",
      "source": [
        "Now that you know how the Elbow Method works, try and apply it to the first example we had. ***Is your number of clusters the same as the optimal one found with this method?***\n",
        "\n",
        "\n",
        "<font color=\"red\">Yes. The optimal value of k for the example corresponds with the number of k I initially selected (i.e k = 3) </font>"
      ],
      "metadata": {
        "id": "xRKWBakoPfYH"
      }
    },
    {
      "cell_type": "code",
      "source": [
        "# Dataset\n",
        "X = np.array([[5,5], [4,26], [7,35], [18,30], [10,20], [16,13], [20,20], [19,27], [15, 25],\\\n",
        "                   [25,53], [32,56], [37,47], [28,48], [34,46], [27,43], [36,40], [32,44],\\\n",
        "                   [33,17], [39,18], [53,24], [48,18], [53,15], [45,13], [37,12], [35,5], [42,7]])\n",
        "\n",
        "# TO DO: Apply the elbow method to the fist dataset (defined above)\n",
        "wcss = [] \n",
        "# For each K value\n",
        "for i in range(1, 11): \n",
        "    # TO DO: Create a K-Means Classifier with K=i\n",
        "    kmeans = KMeans(n_clusters=i).fit(X)# _________TO DO_________\n",
        "    # TO DO: Save the inertia value in the wcss array\n",
        "    wcss.append(kmeans.inertia_)\n",
        "\n",
        "# _________TO DO_________\n",
        "# TO DO: Plot the WCSS\n",
        "\n",
        "plt.plot(range(1, 11), wcss)\n",
        "plt.title(\"Elbow Method for Optimal K\")\n",
        "plt.xlabel(\"Number of Clusters K\")\n",
        "plt.ylabel(\"WCSS\")\n",
        "plt.show()\n",
        "\n",
        "# _________TO DO_________"
      ],
      "metadata": {
        "id": "KcaSEp67PqEu",
        "colab": {
          "base_uri": "https://localhost:8080/",
          "height": 295
        },
        "outputId": "21144526-b170-4098-c04f-0fd488d7e2e4"
      },
      "execution_count": 9,
      "outputs": [
        {
          "output_type": "display_data",
          "data": {
            "text/plain": [
              "<Figure size 432x288 with 1 Axes>"
            ],
            "image/png": "[encoded data removed]"
          },
          "metadata": {
            "needs_background": "light"
          }
        }
      ]
    }
  ]
}