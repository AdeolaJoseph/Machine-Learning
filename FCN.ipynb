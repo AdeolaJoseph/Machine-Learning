{
  "nbformat": 4,
  "nbformat_minor": 0,
  "metadata": {
    "colab": {
      "provenance": []
    },
    "kernelspec": {
      "name": "python3",
      "display_name": "Python 3"
    },
    "language_info": {
      "name": "python"
    }
  },
  "cells": [
    {
      "cell_type": "markdown",
      "metadata": {
        "id": "PyMYPPdtccYn"
      },
      "source": [
        "# Lab 10: Fully Connected Network\n",
        "\n",
        "In this lab you will implement your first neural network, consisting of a series of fully connected layers. This type of neural network is known as a fully connected network (FCN), and we will implement it using Tensorflow and Keras."
      ]
    },
    {
      "cell_type": "markdown",
      "source": [
        "<a name=\"1\"></a>\n",
        "## 1. Load the data \n",
        "\n",
        "\n"
      ],
      "metadata": {
        "id": "DY_AI0zBHW1u"
      }
    },
    {
      "cell_type": "code",
      "metadata": {
        "id": "5UJmGh2cZSWz",
        "colab": {
          "base_uri": "https://localhost:8080/"
        },
        "outputId": "ae1bd860-3662-48da-9497-04fbf52912d7"
      },
      "source": [
        "import numpy as np\n",
        "from tensorflow import keras\n",
        "from sklearn.metrics import confusion_matrix\n",
        "import itertools\n",
        "import matplotlib.pyplot as plt\n",
        "from keras.datasets import mnist\n",
        "from sklearn.model_selection import train_test_split\n",
        "\n",
        "(X_train, Y_train), (x_test, y_test)= mnist.load_data()  #load the MNIST dataset\n",
        "\n",
        "#normalization so that data lays in [0,1] interval\n",
        "X_train, x_test= X_train/255.0, x_test/255.0  \n",
        "\n",
        "num_classes=10\n",
        "\n",
        "#first we use only 500 images as our train set\n",
        "# X_train , Y_train= X_train[:500] , Y_train[:500] \n",
        "\n",
        "# splitting the train data into train and validation data\n",
        "x_train, x_val,y_train,y_val = train_test_split(X_train, Y_train, test_size=0.1) \n",
        "\n",
        "print(x_train.shape,y_train.shape, x_val.shape,y_val.shape)\n",
        "\n",
        "#use one-hot encoding for the desired output labels y\n",
        "y_train_1hot = keras.utils.to_categorical(y_train, num_classes)\n",
        "y_test_1hot  = keras.utils.to_categorical(y_test, num_classes)\n",
        "y_val_1hot   = keras.utils.to_categorical(y_val, num_classes)\n",
        "\n"
      ],
      "execution_count": 1,
      "outputs": [
        {
          "output_type": "stream",
          "name": "stdout",
          "text": [
            "(54000, 28, 28) (54000,) (6000, 28, 28) (6000,)\n"
          ]
        }
      ]
    },
    {
      "cell_type": "markdown",
      "metadata": {
        "id": "8c-qV-dxciNM"
      },
      "source": [
        "<a name=\"1\"></a>\n",
        "## 2. Build the model"
      ]
    },
    {
      "cell_type": "code",
      "metadata": {
        "id": "y2apMTU_27p8"
      },
      "source": [
        "#build model\n",
        "model =keras.models.Sequential([\n",
        "                            keras.layers.Flatten(input_shape=(28, 28)),    # this is a special input layer, defined by the size of the input images\n",
        "                            keras.layers.Dense(296, activation='relu'), # first layer with ____ output classes \n",
        "                            keras.layers.Dense(148, activation='relu'), # first layer with ____ output classes \n",
        "                            keras.layers.Dense(74, activation='relu'),  # second layer with ____ output classes \n",
        "                            keras.layers.Dense(37, activation='relu'),  # third layer added\n",
        "                            keras.layers.Dropout(0.2),                  # with the possibility of 20% a node in a layer  may be ignored\n",
        "                            keras.layers.Dense(10, activation='softmax')   # output layer with 10 output classes (number of classes)\n",
        " ])\n",
        "\n",
        "#compile model\n",
        "model.compile(optimizer = 'SGD', # choose your optimizer\n",
        "              loss = 'categorical_crossentropy',\n",
        "              metrics = ['accuracy'])\n",
        "\n",
        "\n",
        "# number of neurons initially in the file\n",
        "# first dense layer - 128\n",
        "# second dense layer - 64"
      ],
      "execution_count": 2,
      "outputs": []
    },
    {
      "cell_type": "markdown",
      "metadata": {
        "id": "kXAGET0Eckxr"
      },
      "source": [
        "<a name=\"1\"></a>\n",
        "## 3. Train the model\n",
        "\n",
        "\n",
        "\n"
      ]
    },
    {
      "cell_type": "code",
      "metadata": {
        "id": "rVx_xkbAJcdC",
        "colab": {
          "base_uri": "https://localhost:8080/"
        },
        "outputId": "036e10e5-746c-4781-98eb-7bd5fada9aaa"
      },
      "source": [
        "#train the model\n",
        "r = model.fit(x_train , y_train_1hot ,batch_size=25, validation_data=(x_val, y_val_1hot),epochs=25)  #choose your batch size\n"
      ],
      "execution_count": 3,
      "outputs": [
        {
          "output_type": "stream",
          "name": "stdout",
          "text": [
            "Epoch 1/25\n",
            "2160/2160 [==============================] - 12s 5ms/step - loss: 0.7627 - accuracy: 0.7670 - val_loss: 0.2868 - val_accuracy: 0.9200\n",
            "Epoch 2/25\n",
            "2160/2160 [==============================] - 10s 5ms/step - loss: 0.2882 - accuracy: 0.9183 - val_loss: 0.1980 - val_accuracy: 0.9422\n",
            "Epoch 3/25\n",
            "2160/2160 [==============================] - 10s 5ms/step - loss: 0.2134 - accuracy: 0.9409 - val_loss: 0.1615 - val_accuracy: 0.9492\n",
            "Epoch 4/25\n",
            "2160/2160 [==============================] - 11s 5ms/step - loss: 0.1700 - accuracy: 0.9518 - val_loss: 0.1476 - val_accuracy: 0.9535\n",
            "Epoch 5/25\n",
            "2160/2160 [==============================] - 11s 5ms/step - loss: 0.1426 - accuracy: 0.9595 - val_loss: 0.1268 - val_accuracy: 0.9593\n",
            "Epoch 6/25\n",
            "2160/2160 [==============================] - 10s 5ms/step - loss: 0.1229 - accuracy: 0.9649 - val_loss: 0.1210 - val_accuracy: 0.9615\n",
            "Epoch 7/25\n",
            "2160/2160 [==============================] - 10s 5ms/step - loss: 0.1048 - accuracy: 0.9697 - val_loss: 0.1105 - val_accuracy: 0.9662\n",
            "Epoch 8/25\n",
            "2160/2160 [==============================] - 12s 6ms/step - loss: 0.0938 - accuracy: 0.9729 - val_loss: 0.0961 - val_accuracy: 0.9710\n",
            "Epoch 9/25\n",
            "2160/2160 [==============================] - 10s 5ms/step - loss: 0.0820 - accuracy: 0.9759 - val_loss: 0.1076 - val_accuracy: 0.9690\n",
            "Epoch 10/25\n",
            "2160/2160 [==============================] - 11s 5ms/step - loss: 0.0720 - accuracy: 0.9793 - val_loss: 0.0908 - val_accuracy: 0.9723\n",
            "Epoch 11/25\n",
            "2160/2160 [==============================] - 11s 5ms/step - loss: 0.0650 - accuracy: 0.9813 - val_loss: 0.0911 - val_accuracy: 0.9735\n",
            "Epoch 12/25\n",
            "2160/2160 [==============================] - 11s 5ms/step - loss: 0.0572 - accuracy: 0.9834 - val_loss: 0.0895 - val_accuracy: 0.9735\n",
            "Epoch 13/25\n",
            "2160/2160 [==============================] - 10s 5ms/step - loss: 0.0517 - accuracy: 0.9852 - val_loss: 0.0908 - val_accuracy: 0.9735\n",
            "Epoch 14/25\n",
            "2160/2160 [==============================] - 12s 5ms/step - loss: 0.0452 - accuracy: 0.9861 - val_loss: 0.0858 - val_accuracy: 0.9745\n",
            "Epoch 15/25\n",
            "2160/2160 [==============================] - 11s 5ms/step - loss: 0.0413 - accuracy: 0.9879 - val_loss: 0.0823 - val_accuracy: 0.9757\n",
            "Epoch 16/25\n",
            "2160/2160 [==============================] - 11s 5ms/step - loss: 0.0362 - accuracy: 0.9895 - val_loss: 0.0868 - val_accuracy: 0.9763\n",
            "Epoch 17/25\n",
            "2160/2160 [==============================] - 11s 5ms/step - loss: 0.0330 - accuracy: 0.9905 - val_loss: 0.0844 - val_accuracy: 0.9757\n",
            "Epoch 18/25\n",
            "2160/2160 [==============================] - 11s 5ms/step - loss: 0.0291 - accuracy: 0.9920 - val_loss: 0.0872 - val_accuracy: 0.9765\n",
            "Epoch 19/25\n",
            "2160/2160 [==============================] - 11s 5ms/step - loss: 0.0276 - accuracy: 0.9916 - val_loss: 0.0874 - val_accuracy: 0.9745\n",
            "Epoch 20/25\n",
            "2160/2160 [==============================] - 11s 5ms/step - loss: 0.0223 - accuracy: 0.9944 - val_loss: 0.0918 - val_accuracy: 0.9740\n",
            "Epoch 21/25\n",
            "2160/2160 [==============================] - 11s 5ms/step - loss: 0.0217 - accuracy: 0.9935 - val_loss: 0.0889 - val_accuracy: 0.9760\n",
            "Epoch 22/25\n",
            "2160/2160 [==============================] - 11s 5ms/step - loss: 0.0187 - accuracy: 0.9947 - val_loss: 0.0864 - val_accuracy: 0.9768\n",
            "Epoch 23/25\n",
            "2160/2160 [==============================] - 11s 5ms/step - loss: 0.0185 - accuracy: 0.9948 - val_loss: 0.1005 - val_accuracy: 0.9748\n",
            "Epoch 24/25\n",
            "2160/2160 [==============================] - 11s 5ms/step - loss: 0.0164 - accuracy: 0.9955 - val_loss: 0.0903 - val_accuracy: 0.9777\n",
            "Epoch 25/25\n",
            "2160/2160 [==============================] - 11s 5ms/step - loss: 0.0147 - accuracy: 0.9959 - val_loss: 0.1056 - val_accuracy: 0.9722\n"
          ]
        }
      ]
    },
    {
      "cell_type": "markdown",
      "metadata": {
        "id": "lu4EBtP5cq95"
      },
      "source": [
        "<a name=\"1\"></a>\n",
        "## 4. Validating the model"
      ]
    },
    {
      "cell_type": "code",
      "metadata": {
        "id": "c915st44J-Wh",
        "colab": {
          "base_uri": "https://localhost:8080/",
          "height": 446
        },
        "outputId": "c7692126-9e11-4efc-a37c-71e427045d1e"
      },
      "source": [
        "#plot loss\n",
        "plt.figure(figsize = (7,7))\n",
        "plt.plot(r.history['loss'],label='loss')\n",
        "plt.plot(r.history['val_loss'],label='val_loss')\n",
        "plt.legend()"
      ],
      "execution_count": 4,
      "outputs": [
        {
          "output_type": "execute_result",
          "data": {
            "text/plain": [
              "<matplotlib.legend.Legend at 0x7f76bf7bed30>"
            ]
          },
          "metadata": {},
          "execution_count": 4
        },
        {
          "output_type": "display_data",
          "data": {
            "text/plain": [
              "<Figure size 504x504 with 1 Axes>"
            ],
            "image/png": "[encoded data removed]"
          },
          "metadata": {
            "needs_background": "light"
          }
        }
      ]
    },
    {
      "cell_type": "code",
      "metadata": {
        "id": "l3YaoEooKiTW",
        "colab": {
          "base_uri": "https://localhost:8080/",
          "height": 446
        },
        "outputId": "e419dcd4-d96f-4e15-9cd4-b47ae8c406f3"
      },
      "source": [
        "#plot accuracy\n",
        "plt.figure(figsize = (7,7))\n",
        "plt.plot(r.history['accuracy'],label='accuracy')\n",
        "plt.plot(r.history['val_accuracy'],label='val_accuracy')\n",
        "plt.legend()\n"
      ],
      "execution_count": 5,
      "outputs": [
        {
          "output_type": "execute_result",
          "data": {
            "text/plain": [
              "<matplotlib.legend.Legend at 0x7f76c29f1820>"
            ]
          },
          "metadata": {},
          "execution_count": 5
        },
        {
          "output_type": "display_data",
          "data": {
            "text/plain": [
              "<Figure size 504x504 with 1 Axes>"
            ],
            "image/png": "[encoded data removed]"
          },
          "metadata": {
            "needs_background": "light"
          }
        }
      ]
    },
    {
      "cell_type": "markdown",
      "metadata": {
        "id": "lkfRmShCxKtY"
      },
      "source": [
        "<a name=\"1\"></a>\n",
        "## 5. Testing the accuracy of the model"
      ]
    },
    {
      "cell_type": "code",
      "metadata": {
        "id": "jpmv62JbK-J_",
        "colab": {
          "base_uri": "https://localhost:8080/"
        },
        "outputId": "4572c027-a0bf-45d6-ef31-5fc9f6bca27a"
      },
      "source": [
        "#evaluate\n",
        "loss,accuracy = model.evaluate( x_test, y_test_1hot) #let's see how the test set works with our model\n",
        "\n",
        "print(\"loss:{:.2f} , accuracy:{:.2f}%\".format(loss, accuracy*100) )  \n",
        "# print(x_test.shape)"
      ],
      "execution_count": 6,
      "outputs": [
        {
          "output_type": "stream",
          "name": "stdout",
          "text": [
            "313/313 [==============================] - 1s 2ms/step - loss: 0.0776 - accuracy: 0.9757\n",
            "loss:0.08 , accuracy:97.57%\n"
          ]
        }
      ]
    },
    {
      "cell_type": "code",
      "metadata": {
        "id": "ofijYJUvLGhs",
        "colab": {
          "base_uri": "https://localhost:8080/",
          "height": 528
        },
        "outputId": "ae67f625-a43f-46d6-9d54-8996bd89b083"
      },
      "source": [
        "#confusion matrix\n",
        "def plot_confusion_matrix(cm, classes,\n",
        "                          normalize=False,\n",
        "                          title='Confusion matrix',\n",
        "                          cmap=plt.cm.Blues):\n",
        "  \"\"\"\n",
        "  This function prints and plots the confusion matrix.\n",
        "  Normalization can be applied by setting `normalize=True`.\n",
        "  \"\"\"\n",
        "  if normalize:\n",
        "      cm = cm.astype('float') / cm.sum(axis=1)[:, np.newaxis]\n",
        "      print(\"Normalized confusion matrix\")\n",
        "  else:\n",
        "      print('Confusion matrix, without normalization')\n",
        "\n",
        "  print(cm)\n",
        "\n",
        "  plt.imshow(cm, interpolation='nearest', cmap=cmap)\n",
        "  plt.title(title)\n",
        "  plt.colorbar()\n",
        "  tick_marks = np.arange(len(classes))\n",
        "  plt.xticks(tick_marks, classes, rotation=45)\n",
        "  plt.yticks(tick_marks, classes)\n",
        "\n",
        "  fmt = '.2f' if normalize else 'd'\n",
        "  thresh = cm.max() / 2.\n",
        "  for i, j in itertools.product(range(cm.shape[0]), range(cm.shape[1])):\n",
        "      plt.text(j, i, format(cm[i, j], fmt),\n",
        "               horizontalalignment=\"center\",\n",
        "               color=\"white\" if cm[i, j] > thresh else \"black\")\n",
        "\n",
        "  plt.tight_layout()\n",
        "  plt.ylabel('True label')\n",
        "  plt.xlabel('Predicted label')\n",
        "  plt.show()\n",
        "  \n",
        "p_test= model.predict(x_test).argmax(axis=1)\n",
        "cm = confusion_matrix(y_test, p_test)\n",
        "plot_confusion_matrix(cm,list(range(10))) #we have numbers from 0 to 9 \n",
        "# in the result of this part we see that the large number of mistakes are on number 9 that \n",
        "# is mistaken for number 4 (may be different on each run)\n",
        "  \n",
        "                      "
      ],
      "execution_count": 7,
      "outputs": [
        {
          "output_type": "stream",
          "name": "stdout",
          "text": [
            "313/313 [==============================] - 1s 2ms/step\n",
            "Confusion matrix, without normalization\n",
            "[[ 972    1    1    1    0    1    2    1    1    0]\n",
            " [   0 1122    4    1    0    0    4    1    3    0]\n",
            " [   6    0 1008    3    5    0    2    4    4    0]\n",
            " [   0    0    7  982    1    7    0    4    6    3]\n",
            " [   2    0    2    1  961    0    5    3    0    8]\n",
            " [   4    1    0    6    1  866    6    1    4    3]\n",
            " [   7    3    1    1    4    2  938    0    2    0]\n",
            " [   3    5    8    2    1    0    0  999    5    5]\n",
            " [   8    1    2    2    5    4    6    4  940    2]\n",
            " [   6    2    0    7    9    2    2    4    8  969]]\n"
          ]
        },
        {
          "output_type": "display_data",
          "data": {
            "text/plain": [
              "<Figure size 432x288 with 2 Axes>"
            ],
            "image/png": "[encoded data removed]"
          },
          "metadata": {
            "needs_background": "light"
          }
        }
      ]
    },
    {
      "cell_type": "code",
      "metadata": {
        "id": "a7zQ2TLBNjxC",
        "colab": {
          "base_uri": "https://localhost:8080/",
          "height": 281
        },
        "outputId": "65856388-708b-4beb-f029-70c5c3e81dde"
      },
      "source": [
        "# let's show some misclassified images\n",
        "\n",
        "# gather all misclassified indices (where function returns 2 elements, we only need the first one so we use [0])\n",
        "misclassified_idx = np.where(p_test != y_test)[0] \n",
        "# randomly choose a misclassified index. you can set i as any class number you prefer\n",
        "i = np.random.choice(misclassified_idx) \n",
        "\n",
        "\n",
        "# if we do not say it is gray, the image will show up as a heat map\n",
        "plt.imshow(x_test[i], cmap='gray') \n",
        "plt.title(\"True label: %s Predicted : %s\"%(y_test[i], p_test[i]));"
      ],
      "execution_count": 8,
      "outputs": [
        {
          "output_type": "display_data",
          "data": {
            "text/plain": [
              "<Figure size 432x288 with 1 Axes>"
            ],
            "image/png": "[encoded data removed]"
          },
          "metadata": {
            "needs_background": "light"
          }
        }
      ]
    }
  ]
}