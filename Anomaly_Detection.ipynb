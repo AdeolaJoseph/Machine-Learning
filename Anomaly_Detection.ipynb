{
  "cells": [
    {
      "cell_type": "markdown",
      "id": "f63ead24",
      "metadata": {
        "id": "f63ead24"
      },
      "source": [
        "# Lab 9: Anomaly Detection\n",
        "\n",
        "In this lab, you will implement the anomaly detection algorithm and apply it to detect failing servers on a network. \n",
        "\n",
        "\n",
        "# Outline\n",
        "- [ 1. Packages ](#1)\n",
        "- [ 2. Problem Statement ](#2)\n",
        "- [ 3. Loading the required files ](#3)\n",
        "  - [ 3.1. Copying auxiliary and data files ](#3.1)\n",
        "  - [ 3.2. Loading the Dataset ](#3.2)\n",
        "- [ 4. Anomaly Detection ](#4)  \n",
        "  - [ 4.1. Gaussian distribution](#4.1)\n",
        "    - [ Exercise 1](#ex01)\n",
        "    - [ Exercise 2](#ex02)\n",
        "  - [ 4.2 High-dimensional dataset ](#4.2)\n",
        "  - [ 4.3 Multivariate Gaussian distribution ](#4.3)\n"
      ]
    },
    {
      "cell_type": "markdown",
      "id": "e310dd19",
      "metadata": {
        "id": "e310dd19"
      },
      "source": [
        "<a name=\"1\"></a>\n",
        "## 1. Packages \n",
        "\n",
        "First, let's run the cell below to import all the packages that you will need during this lab.\n",
        "- [numpy](www.numpy.org) is the fundamental package for working with matrices in Python.\n",
        "- [matplotlib](http://matplotlib.org) is a basic library to plot graphs in Python.\n",
        "\n"
      ]
    },
    {
      "cell_type": "code",
      "execution_count": 1,
      "id": "b560506a",
      "metadata": {
        "id": "b560506a"
      },
      "outputs": [],
      "source": [
        "import numpy as np\n",
        "import matplotlib.pyplot as plt\n",
        "import statistics as sta\n",
        "from sklearn.metrics import f1_score\n",
        "\n",
        "%matplotlib inline"
      ]
    },
    {
      "cell_type": "markdown",
      "id": "3f672f99",
      "metadata": {
        "id": "3f672f99"
      },
      "source": [
        "<a name=\"2\"></a>\n",
        "## 2. Problem Statement\n",
        "\n",
        "In this lab, you will implement an anomaly detection algorithm to\n",
        "detect anomalous behavior in server computers.\n",
        "\n",
        "The dataset contains two features:\n",
        "   * throughput (mb/s) and \n",
        "   * latency (ms) of response of each server.\n",
        "\n",
        "While your servers were operating, you collected $m=307$ examples of how they were behaving, and thus have an unlabeled dataset $\\{x^{(1)}, \\ldots, x^{(m)}\\}$. \n",
        "* You suspect that the vast majority of these examples are “normal” (non-anomalous) examples of the servers operating normally, but there might also be some examples of servers acting anomalously within this dataset.\n",
        "\n",
        "You will use a Gaussian model to detect anomalous examples in your\n",
        "dataset. \n",
        "* You will first start on a 2D dataset that will allow you to visualize what the algorithm is doing.\n",
        "* On that dataset you will fit a Gaussian distribution and then find values that have very low probability and hence can be considered anomalies. \n",
        "* After that, you will apply the anomaly detection algorithm to a larger dataset with many dimensions. \n",
        "* Finally, you will use a third dataset to compare the standard Gaussian model with the Multivariate Gaussian anomaly detection algorithm. \n",
        "\n"
      ]
    },
    {
      "cell_type": "markdown",
      "source": [
        "<a name=\"3\"></a>\n",
        "## 3. Loading the required files\n",
        "\n",
        "<a name=\"3.1\"></a>\n",
        "### 3.1. Copying auxiliary and data files\n",
        "\n",
        "You can load into the temporal workspace of Colab all the required files, that is, the file `check_your_solution.py` with some routines that will be used to check if your implementations during the lab are correct, and the following data files:\n",
        "\n",
        "*  `X_part1.npy`\n",
        "*  `X_val_part1.npy`\n",
        "*  `y_val_part1.npy`\n",
        "*  `X_part2.npy`\n",
        "*  `X_val_part2.npy`\n",
        "*  `y_val_part2.npy`\n",
        "*  `X_part3.npy`\n",
        "*  `X_val_part3.npy`\n",
        "*  `y_val_part3.npy`\n",
        "*  `X_test_part3.npy`\n",
        "*  `y_test_part3.npy`\n",
        "\n",
        "You should copy these files from your computer using the function `files.upload()`. Use the `Choose Files` button to upload both files from your local drive."
      ],
      "metadata": {
        "id": "mi-k8Xz6UU9a"
      },
      "id": "mi-k8Xz6UU9a"
    },
    {
      "cell_type": "code",
      "source": [
        "from google.colab import files\n",
        "uploaded = files.upload()"
      ],
      "metadata": {
        "id": "fHvTwD76UWk1",
        "colab": {
          "base_uri": "https://localhost:8080/",
          "height": 455
        },
        "outputId": "5df5caa7-6f9e-4c42-e7cb-f84b4ca1efe8"
      },
      "id": "fHvTwD76UWk1",
      "execution_count": 2,
      "outputs": [
        {
          "output_type": "display_data",
          "data": {
            "text/plain": [
              "<IPython.core.display.HTML object>"
            ],
            "text/html": [
              "\n",
              "     <input type=\"file\" id=\"files-edfa4b52-8588-4717-9f57-dedfbc3e4c47\" name=\"files[]\" multiple disabled\n",
              "        style=\"border:none\" />\n",
              "     <output id=\"result-edfa4b52-8588-4717-9f57-dedfbc3e4c47\">\n",
              "      Upload widget is only available when the cell has been executed in the\n",
              "      current browser session. Please rerun this cell to enable.\n",
              "      </output>\n",
              "      <script>// Copyright 2017 Google LLC\n",
              "//\n",
              "// Licensed under the Apache License, Version 2.0 (the \"License\");\n",
              "// you may not use this file except in compliance with the License.\n",
              "// You may obtain a copy of the License at\n",
              "//\n",
              "//      http://www.apache.org/licenses/LICENSE-2.0\n",
              "//\n",
              "// Unless required by applicable law or agreed to in writing, software\n",
              "// distributed under the License is distributed on an \"AS IS\" BASIS,\n",
              "// WITHOUT WARRANTIES OR CONDITIONS OF ANY KIND, either express or implied.\n",
              "// See the License for the specific language governing permissions and\n",
              "// limitations under the License.\n",
              "\n",
              "/**\n",
              " * @fileoverview Helpers for google.colab Python module.\n",
              " */\n",
              "(function(scope) {\n",
              "function span(text, styleAttributes = {}) {\n",
              "  const element = document.createElement('span');\n",
              "  element.textContent = text;\n",
              "  for (const key of Object.keys(styleAttributes)) {\n",
              "    element.style[key] = styleAttributes[key];\n",
              "  }\n",
              "  return element;\n",
              "}\n",
              "\n",
              "// Max number of bytes which will be uploaded at a time.\n",
              "const MAX_PAYLOAD_SIZE = 100 * 1024;\n",
              "\n",
              "function _uploadFiles(inputId, outputId) {\n",
              "  const steps = uploadFilesStep(inputId, outputId);\n",
              "  const outputElement = document.getElementById(outputId);\n",
              "  // Cache steps on the outputElement to make it available for the next call\n",
              "  // to uploadFilesContinue from Python.\n",
              "  outputElement.steps = steps;\n",
              "\n",
              "  return _uploadFilesContinue(outputId);\n",
              "}\n",
              "\n",
              "// This is roughly an async generator (not supported in the browser yet),\n",
              "// where there are multiple asynchronous steps and the Python side is going\n",
              "// to poll for completion of each step.\n",
              "// This uses a Promise to block the python side on completion of each step,\n",
              "// then passes the result of the previous step as the input to the next step.\n",
              "function _uploadFilesContinue(outputId) {\n",
              "  const outputElement = document.getElementById(outputId);\n",
              "  const steps = outputElement.steps;\n",
              "\n",
              "  const next = steps.next(outputElement.lastPromiseValue);\n",
              "  return Promise.resolve(next.value.promise).then((value) => {\n",
              "    // Cache the last promise value to make it available to the next\n",
              "    // step of the generator.\n",
              "    outputElement.lastPromiseValue = value;\n",
              "    return next.value.response;\n",
              "  });\n",
              "}\n",
              "\n",
              "/**\n",
              " * Generator function which is called between each async step of the upload\n",
              " * process.\n",
              " * @param {string} inputId Element ID of the input file picker element.\n",
              " * @param {string} outputId Element ID of the output display.\n",
              " * @return {!Iterable<!Object>} Iterable of next steps.\n",
              " */\n",
              "function* uploadFilesStep(inputId, outputId) {\n",
              "  const inputElement = document.getElementById(inputId);\n",
              "  inputElement.disabled = false;\n",
              "\n",
              "  const outputElement = document.getElementById(outputId);\n",
              "  outputElement.innerHTML = '';\n",
              "\n",
              "  const pickedPromise = new Promise((resolve) => {\n",
              "    inputElement.addEventListener('change', (e) => {\n",
              "      resolve(e.target.files);\n",
              "    });\n",
              "  });\n",
              "\n",
              "  const cancel = document.createElement('button');\n",
              "  inputElement.parentElement.appendChild(cancel);\n",
              "  cancel.textContent = 'Cancel upload';\n",
              "  const cancelPromise = new Promise((resolve) => {\n",
              "    cancel.onclick = () => {\n",
              "      resolve(null);\n",
              "    };\n",
              "  });\n",
              "\n",
              "  // Wait for the user to pick the files.\n",
              "  const files = yield {\n",
              "    promise: Promise.race([pickedPromise, cancelPromise]),\n",
              "    response: {\n",
              "      action: 'starting',\n",
              "    }\n",
              "  };\n",
              "\n",
              "  cancel.remove();\n",
              "\n",
              "  // Disable the input element since further picks are not allowed.\n",
              "  inputElement.disabled = true;\n",
              "\n",
              "  if (!files) {\n",
              "    return {\n",
              "      response: {\n",
              "        action: 'complete',\n",
              "      }\n",
              "    };\n",
              "  }\n",
              "\n",
              "  for (const file of files) {\n",
              "    const li = document.createElement('li');\n",
              "    li.append(span(file.name, {fontWeight: 'bold'}));\n",
              "    li.append(span(\n",
              "        `(${file.type || 'n/a'}) - ${file.size} bytes, ` +\n",
              "        `last modified: ${\n",
              "            file.lastModifiedDate ? file.lastModifiedDate.toLocaleDateString() :\n",
              "                                    'n/a'} - `));\n",
              "    const percent = span('0% done');\n",
              "    li.appendChild(percent);\n",
              "\n",
              "    outputElement.appendChild(li);\n",
              "\n",
              "    const fileDataPromise = new Promise((resolve) => {\n",
              "      const reader = new FileReader();\n",
              "      reader.onload = (e) => {\n",
              "        resolve(e.target.result);\n",
              "      };\n",
              "      reader.readAsArrayBuffer(file);\n",
              "    });\n",
              "    // Wait for the data to be ready.\n",
              "    let fileData = yield {\n",
              "      promise: fileDataPromise,\n",
              "      response: {\n",
              "        action: 'continue',\n",
              "      }\n",
              "    };\n",
              "\n",
              "    // Use a chunked sending to avoid message size limits. See b/62115660.\n",
              "    let position = 0;\n",
              "    do {\n",
              "      const length = Math.min(fileData.byteLength - position, MAX_PAYLOAD_SIZE);\n",
              "      const chunk = new Uint8Array(fileData, position, length);\n",
              "      position += length;\n",
              "\n",
              "      const base64 = btoa(String.fromCharCode.apply(null, chunk));\n",
              "      yield {\n",
              "        response: {\n",
              "          action: 'append',\n",
              "          file: file.name,\n",
              "          data: base64,\n",
              "        },\n",
              "      };\n",
              "\n",
              "      let percentDone = fileData.byteLength === 0 ?\n",
              "          100 :\n",
              "          Math.round((position / fileData.byteLength) * 100);\n",
              "      percent.textContent = `${percentDone}% done`;\n",
              "\n",
              "    } while (position < fileData.byteLength);\n",
              "  }\n",
              "\n",
              "  // All done.\n",
              "  yield {\n",
              "    response: {\n",
              "      action: 'complete',\n",
              "    }\n",
              "  };\n",
              "}\n",
              "\n",
              "scope.google = scope.google || {};\n",
              "scope.google.colab = scope.google.colab || {};\n",
              "scope.google.colab._files = {\n",
              "  _uploadFiles,\n",
              "  _uploadFilesContinue,\n",
              "};\n",
              "})(self);\n",
              "</script> "
            ]
          },
          "metadata": {}
        },
        {
          "output_type": "stream",
          "name": "stdout",
          "text": [
            "Saving check_your_solution.py to check_your_solution (1).py\n",
            "Saving X_part1.npy to X_part1 (1).npy\n",
            "Saving X_part2.npy to X_part2 (1).npy\n",
            "Saving X_part3.npy to X_part3 (1).npy\n",
            "Saving X_test_part3.npy to X_test_part3 (1).npy\n",
            "Saving X_val_part1.npy to X_val_part1 (1).npy\n",
            "Saving X_val_part2.npy to X_val_part2 (1).npy\n",
            "Saving X_val_part3.npy to X_val_part3 (1).npy\n",
            "Saving y_test_part3.npy to y_test_part3 (1).npy\n",
            "Saving y_val_part1.npy to y_val_part1 (1).npy\n",
            "Saving y_val_part2.npy to y_val_part2 (1).npy\n",
            "Saving y_val_part3.npy to y_val_part3 (1).npy\n"
          ]
        }
      ]
    },
    {
      "cell_type": "markdown",
      "id": "d2bb442f",
      "metadata": {
        "id": "d2bb442f"
      },
      "source": [
        "<a name=\"3.2\"></a>\n",
        "### 3.2. Loading the Dataset\n",
        "\n",
        "You will start by loading the dataset for this task. \n",
        "- The `load_data()` function shown below loads the data into the variables `X_train`, `X_val` and `y_val` \n",
        "    - You will use `X_train` to fit a Gaussian distribution \n",
        "    - You will use `X_val` and `y_val` as a cross validation set to select a threshold and determine anomalous vs normal examples\n"
      ]
    },
    {
      "cell_type": "code",
      "execution_count": 24,
      "id": "5370a93b",
      "metadata": {
        "id": "5370a93b"
      },
      "outputs": [],
      "source": [
        "def load_data():\n",
        "    X = np.load(\"X_part1.npy\")\n",
        "    X_val = np.load(\"X_val_part1.npy\")\n",
        "    y_val = np.load(\"y_val_part1.npy\")\n",
        "    return X, X_val, y_val\n",
        "\n",
        "def load_data_multi():\n",
        "    X = np.load(\"X_part2.npy\")\n",
        "    X_val = np.load(\"X_val_part2.npy\")\n",
        "    y_val = np.load(\"y_val_part2.npy\")\n",
        "    return X, X_val, y_val\n",
        "    \n",
        "def load_data_mvg():\n",
        "    X_mvg=np.load(\"X_part3.npy\")\n",
        "    X_val_mvg=np.load(\"X_val_part3.npy\")\n",
        "    y_val_mvg=np.load(\"y_val_part3.npy\")\n",
        "    X_test_mvg=np.load(\"X_test_part3.npy\")\n",
        "    y_test_mvg=np.load(\"y_test_part3.npy\")\n",
        "    return X_mvg,X_val_mvg,y_val_mvg,X_test_mvg,y_test_mvg"
      ]
    },
    {
      "cell_type": "code",
      "execution_count": 4,
      "id": "e6ab01d7",
      "metadata": {
        "id": "e6ab01d7"
      },
      "outputs": [],
      "source": [
        "# Load the dataset\n",
        "X_train, X_val, y_val = load_data()"
      ]
    },
    {
      "cell_type": "markdown",
      "id": "87fabd16",
      "metadata": {
        "id": "87fabd16"
      },
      "source": [
        "#### View the variables\n",
        "Let's get more familiar with your dataset.  \n",
        "- A good place to start is to just print out each variable and see what it contains.\n",
        "\n",
        "The code below prints the first five elements of each of the variables"
      ]
    },
    {
      "cell_type": "code",
      "execution_count": 5,
      "id": "41eb4c7b",
      "metadata": {
        "id": "41eb4c7b",
        "colab": {
          "base_uri": "https://localhost:8080/"
        },
        "outputId": "0c81f954-8cec-4916-adc4-f4f9233508c1"
      },
      "outputs": [
        {
          "output_type": "stream",
          "name": "stdout",
          "text": [
            "The first 5 elements of X_train are:\n",
            " [[13.04681517 14.74115241]\n",
            " [13.40852019 13.7632696 ]\n",
            " [14.19591481 15.85318113]\n",
            " [14.91470077 16.17425987]\n",
            " [13.57669961 14.04284944]]\n"
          ]
        }
      ],
      "source": [
        "# Display the first five elements of X_train\n",
        "print(\"The first 5 elements of X_train are:\\n\", X_train[:5])  "
      ]
    },
    {
      "cell_type": "code",
      "execution_count": 6,
      "id": "7dc31736",
      "metadata": {
        "id": "7dc31736",
        "colab": {
          "base_uri": "https://localhost:8080/"
        },
        "outputId": "d061fa26-f5b0-4fc2-9b02-c884ab241ac9"
      },
      "outputs": [
        {
          "output_type": "stream",
          "name": "stdout",
          "text": [
            "The first 5 elements of X_val are\n",
            " [[15.79025979 14.9210243 ]\n",
            " [13.63961877 15.32995521]\n",
            " [14.86589943 16.47386514]\n",
            " [13.58467605 13.98930611]\n",
            " [13.46404167 15.63533011]]\n"
          ]
        }
      ],
      "source": [
        "# Display the first five elements of X_val\n",
        "print(\"The first 5 elements of X_val are\\n\", X_val[:5])  "
      ]
    },
    {
      "cell_type": "code",
      "execution_count": 7,
      "id": "67b88a00",
      "metadata": {
        "id": "67b88a00",
        "colab": {
          "base_uri": "https://localhost:8080/"
        },
        "outputId": "8947e86c-5e49-4dc0-c9a5-30ccd297e69b"
      },
      "outputs": [
        {
          "output_type": "stream",
          "name": "stdout",
          "text": [
            "The first 5 elements of y_val are\n",
            " [0 0 0 0 0]\n"
          ]
        }
      ],
      "source": [
        "# Display the first five elements of y_val\n",
        "print(\"The first 5 elements of y_val are\\n\", y_val[:5])  "
      ]
    },
    {
      "cell_type": "markdown",
      "id": "86a4c8e9",
      "metadata": {
        "id": "86a4c8e9"
      },
      "source": [
        "#### Check the dimensions of your variables\n",
        "\n",
        "Another useful way to get familiar with your data is to view its dimensions.\n",
        "\n",
        "The code below prints the shape of `X_train`, `X_val` and `y_val`."
      ]
    },
    {
      "cell_type": "code",
      "execution_count": 8,
      "id": "8015642b",
      "metadata": {
        "id": "8015642b",
        "colab": {
          "base_uri": "https://localhost:8080/"
        },
        "outputId": "b8ea784f-b204-4524-ee50-457c81e4695d"
      },
      "outputs": [
        {
          "output_type": "stream",
          "name": "stdout",
          "text": [
            "The shape of X_train is: (307, 2)\n",
            "The shape of X_val is: (307, 2)\n",
            "The shape of y_val is:  (307,)\n"
          ]
        }
      ],
      "source": [
        "print ('The shape of X_train is:', X_train.shape)\n",
        "print ('The shape of X_val is:', X_val.shape)\n",
        "print ('The shape of y_val is: ', y_val.shape)"
      ]
    },
    {
      "cell_type": "markdown",
      "id": "789b3e15",
      "metadata": {
        "id": "789b3e15"
      },
      "source": [
        "#### Visualize your data\n",
        "\n",
        "Before starting on any task, it is often useful to understand the data by visualizing it. \n",
        "- For this dataset, you can use a scatter plot to visualize the data (`X_train`), since it has only two properties to plot (throughput and latency)\n"
      ]
    },
    {
      "cell_type": "code",
      "execution_count": 9,
      "id": "e43234e5",
      "metadata": {
        "id": "e43234e5",
        "colab": {
          "base_uri": "https://localhost:8080/",
          "height": 295
        },
        "outputId": "c96e2c26-2aa9-411a-8d88-9e842ed29402"
      },
      "outputs": [
        {
          "output_type": "display_data",
          "data": {
            "text/plain": [
              "<Figure size 432x288 with 1 Axes>"
            ],
            "image/png": "[encoded data removed]"
          },
          "metadata": {
            "needs_background": "light"
          }
        }
      ],
      "source": [
        "# Create a scatter plot of the data. To change the markers to blue \"x\",\n",
        "# we used the 'marker' and 'c' parameters\n",
        "plt.scatter(X_train[:, 0], X_train[:, 1], marker='x', c='b') \n",
        "\n",
        "# Set the title\n",
        "plt.title(\"The first dataset\")\n",
        "# Set the y-axis label\n",
        "plt.ylabel('Throughput (mb/s)')\n",
        "# Set the x-axis label\n",
        "plt.xlabel('Latency (ms)')\n",
        "# Set axis range\n",
        "plt.axis([0, 30, 0, 30])\n",
        "plt.show()"
      ]
    },
    {
      "cell_type": "markdown",
      "id": "3d4ff8cf",
      "metadata": {
        "id": "3d4ff8cf"
      },
      "source": [
        "<a name=\"4\"></a>\n",
        "## 4. Anomaly Detection\n",
        "\n",
        "<a name=\"4.1\"></a>\n",
        "### 4.1 Gaussian distribution\n",
        "\n",
        "To perform anomaly detection, you will first need to fit a model to the data’s distribution.\n",
        "\n",
        "* Given a training set $\\{x^{(1)}, ..., x^{(m)}\\}$ you want to estimate the Gaussian distribution for each\n",
        "of the features $x_i$. \n",
        "\n",
        "* Recall that the Gaussian distribution is given by\n",
        "\n",
        "   $$ p(x ; \\mu,\\sigma ^2) = \\frac{1}{\\sqrt{2 \\pi \\sigma ^2}}\\exp^{ - \\frac{(x - \\mu)^2}{2 \\sigma ^2} }$$\n",
        "\n",
        "   where $\\mu$ is the mean and $\\sigma^2$ is the variance.\n",
        "   \n",
        "* For each feature $i = 1\\ldots n$, you need to find parameters $\\mu_i$ and $\\sigma_i^2$ that fit the data in the $i$-th dimension $\\{x_i^{(1)}, ..., x_i^{(m)}\\}$ (the $i$-th dimension of each example).\n",
        "\n",
        "### 4.1.1 Estimating parameters for a Gaussian distribution\n",
        "\n",
        "**Implementation**: \n",
        "\n",
        "Your task is to complete the code in `estimate_gaussian` below.\n",
        "\n",
        "First we will define two auxiliary functions `multivariate_gaussian` and `visualize_fit`:"
      ]
    },
    {
      "cell_type": "code",
      "execution_count": 10,
      "id": "1c793dfd",
      "metadata": {
        "id": "1c793dfd"
      },
      "outputs": [],
      "source": [
        "def multivariate_gaussian(X, mu, var):\n",
        "    \"\"\"\n",
        "    Computes the probability \n",
        "    density function of the examples X under the multivariate gaussian \n",
        "    distribution with parameters mu and var. If var is a matrix, it is\n",
        "    treated as the covariance matrix. If var is a vector, it is treated\n",
        "    as the var values of the variances in each dimension (a diagonal\n",
        "    covariance matrix\n",
        "    \"\"\"\n",
        "    \n",
        "    k = len(mu)\n",
        "    \n",
        "    if var.ndim == 1:\n",
        "        var = np.diag(var)\n",
        "        \n",
        "    X = X - mu\n",
        "    p = (2* np.pi)**(-k/2) * np.linalg.det(var)**(-0.5) * \\\n",
        "        np.exp(-0.5 * np.sum(np.matmul(X, np.linalg.pinv(var)) * X, axis=1))\n",
        "    \n",
        "    return p\n",
        "        \n",
        "def visualize_fit(X, mu, var):\n",
        "    \"\"\"\n",
        "    This visualization shows you the \n",
        "    probability density function of the Gaussian distribution. Each example\n",
        "    has a location (x1, x2) that depends on its feature values.\n",
        "    \"\"\"\n",
        "    \n",
        "    X1, X2 = np.meshgrid(np.arange(0, 35.5, 0.1), np.arange(0, 35.5, 0.1))\n",
        "    Z = multivariate_gaussian(np.stack([X1.ravel(), X2.ravel()], axis=1), mu, var)\n",
        "    Z = Z.reshape(X1.shape)\n",
        "\n",
        "    plt.plot(X[:, 0], X[:, 1], 'bx')\n",
        "\n",
        "    if np.sum(np.isinf(Z)) == 0:\n",
        "        plt.contour(X1, X2, Z, levels=10**(np.arange(-20., 1, 3)), linewidths=1)\n",
        "        \n",
        "    # Set the title\n",
        "    plt.title(\"The Gaussian contours of the distribution fit to the dataset\")\n",
        "    # Set the y-axis label\n",
        "    plt.ylabel('Throughput (mb/s)')\n",
        "    # Set the x-axis label\n",
        "    plt.xlabel('Latency (ms)')"
      ]
    },
    {
      "cell_type": "markdown",
      "id": "c4615bac",
      "metadata": {
        "id": "c4615bac"
      },
      "source": [
        "<a name=\"ex01\"></a>\n",
        "### Exercise 1\n",
        "\n",
        "Complete the `estimate_gaussian` function below to calculate `mu` (mean for each feature in `X`) and `var` (variance for each feature in `X`). \n",
        "\n",
        "You can estimate the parameters, ($\\mu_i$, $\\sigma_i^2$), of the $i$-th\n",
        "feature by using the following equations. To estimate the mean, you will\n",
        "use:\n",
        "\n",
        "$$\\mu_i = \\frac{1}{m} \\sum_{j=1}^m x_i^{(j)}$$\n",
        "\n",
        "and for the variance you should use:\n",
        "$$\\sigma_i^2 = \\frac{1}{m} \\sum_{j=1}^m (x_i^{(j)} - \\mu_i)^2$$\n",
        "\n",
        "If you get stuck, you can check out the hints presented after the cell below to help you with the implementation."
      ]
    },
    {
      "cell_type": "code",
      "execution_count": 11,
      "id": "59dec76a",
      "metadata": {
        "id": "59dec76a"
      },
      "outputs": [],
      "source": [
        "def estimate_gaussian(X): \n",
        "    \"\"\"\n",
        "    Calculates mean and variance of all features \n",
        "    in the dataset\n",
        "    \n",
        "    Args:\n",
        "        X (ndarray): (m, n) Data matrix\n",
        "    \n",
        "    Returns:\n",
        "        mu (ndarray): (n,) Mean of all features\n",
        "        var (ndarray): (n,) Variance of all features\n",
        "    \"\"\"\n",
        "\n",
        "    m, n = X.shape\n",
        "    \n",
        "    mu = np.mean(X, axis=0) #________TO DO__________\n",
        "    var = np.var(X, axis=0) #________TO DO__________\n",
        "        \n",
        "    return mu, var"
      ]
    },
    {
      "cell_type": "markdown",
      "id": "06cc582f",
      "metadata": {
        "id": "06cc582f"
      },
      "source": [
        "<details>\n",
        "  <summary><font size=\"3\" color=\"darkgreen\"><b>Click for hints</b></font></summary>\n",
        "  \n",
        "   * You can implement this function in two ways: \n",
        "      * 1 - by having two nested for loops - one looping over the **columns** of `X` (each feature) and then looping over each data point. \n",
        "      * 2 - in a vectorized manner by using `np.sum()` with `axis = 0` parameter (since we want the sum for each column)\n",
        "\n",
        "    \n",
        "   * Here's how you can structure the overall implementation of this function for the vectorized implementation:\n",
        "     ```python  \n",
        "    def estimate_gaussian(X): \n",
        "        m, n = X.shape\n",
        "    \n",
        "        ### START CODE HERE ### \n",
        "        mu = # Your code here to calculate the mean of every feature\n",
        "        var = # Your code here to calculate the variance of every feature \n",
        "        ### END CODE HERE ### \n",
        "        \n",
        "        return mu, var\n",
        "    ```\n",
        "\n",
        "    If you're still stuck, you can check the hints presented below to figure out how to calculate `mu` and `var`.\n",
        "    \n",
        "    <details>\n",
        "          <summary><font size=\"2\" color=\"darkblue\"><b>Hint to calculate mu</b></font></summary>\n",
        "           &emsp; &emsp; You can use <a href=\"https://numpy.org/doc/stable/reference/generated/numpy.sum.html\">np.sum</a> to with `axis = 0` parameter to get the sum for each column of an array\n",
        "          <details>\n",
        "              <summary><font size=\"2\" color=\"blue\"><b>&emsp; &emsp; More hints to calculate mu</b></font></summary>\n",
        "               &emsp; &emsp; You can compute mu as <code>mu = 1 / m * np.sum(X, axis = 0)</code>\n",
        "           </details>\n",
        "    </details>\n",
        "    \n",
        "    <details>\n",
        "          <summary><font size=\"2\" color=\"darkblue\"><b>Hint to calculate var</b></font></summary>\n",
        "           &emsp; &emsp; You can use <a href=\"https://numpy.org/doc/stable/reference/generated/numpy.sum.html\">np.sum</a> to with `axis = 0` parameter to get the sum for each column of an array and <code>**2</code> to get the square.\n",
        "          <details>\n",
        "              <summary><font size=\"2\" color=\"blue\"><b>&emsp; &emsp; More hints to calculate var</b></font></summary>\n",
        "               &emsp; &emsp; You can compute var as <code> var = 1 / m * np.sum((X - mu) ** 2, axis = 0)</code>\n",
        "           </details>\n",
        "    </details>\n",
        "    \n",
        "</details>"
      ]
    },
    {
      "cell_type": "markdown",
      "id": "3f68281f",
      "metadata": {
        "id": "3f68281f"
      },
      "source": [
        "You can check if your implementation is correct by running the following test code:"
      ]
    },
    {
      "cell_type": "code",
      "execution_count": 13,
      "id": "99711579",
      "metadata": {
        "id": "99711579",
        "colab": {
          "base_uri": "https://localhost:8080/"
        },
        "outputId": "f7a6578a-7933-44cd-cc3b-e783de7701d9"
      },
      "outputs": [
        {
          "output_type": "stream",
          "name": "stdout",
          "text": [
            "Mean of each feature: [14.11222578 14.99771051]\n",
            "Variance of each feature: [1.83263141 1.70974533]\n",
            "\u001b[92mAll tests passed!\n"
          ]
        }
      ],
      "source": [
        "# Estimate mean and variance of each feature\n",
        "mu, var = estimate_gaussian(X_train)              \n",
        "\n",
        "print(\"Mean of each feature:\", mu)\n",
        "print(\"Variance of each feature:\", var)\n",
        "    \n",
        "# UNIT TEST\n",
        "from check_your_solution import *\n",
        "estimate_gaussian_test(estimate_gaussian)"
      ]
    },
    {
      "cell_type": "markdown",
      "id": "22bb5662",
      "metadata": {
        "id": "22bb5662"
      },
      "source": [
        "**Expected Output**:\n",
        "<table>\n",
        "  <tr>\n",
        "    <td> <b>Mean of each feature: <b>  </td> \n",
        "    <td> [14.11222578 14.99771051]</td> \n",
        "   </tr>    \n",
        "   <tr>\n",
        "    <td> <b>Variance of each feature: <b>  </td>\n",
        "     <td> [1.83263141 1.70974533] </td> \n",
        "  </tr>\n",
        "</table>"
      ]
    },
    {
      "cell_type": "markdown",
      "id": "95e34930",
      "metadata": {
        "id": "95e34930"
      },
      "source": [
        "Now that you have completed the code in `estimate_gaussian`, you can visualize the contours of the fitted Gaussian distribution. \n"
      ]
    },
    {
      "cell_type": "code",
      "execution_count": 14,
      "id": "83fd0670",
      "metadata": {
        "id": "83fd0670",
        "colab": {
          "base_uri": "https://localhost:8080/",
          "height": 295
        },
        "outputId": "bb661ade-9ac7-4503-f373-123208a39769"
      },
      "outputs": [
        {
          "output_type": "display_data",
          "data": {
            "text/plain": [
              "<Figure size 432x288 with 1 Axes>"
            ],
            "image/png": "[encoded data removed]"
          },
          "metadata": {
            "needs_background": "light"
          }
        }
      ],
      "source": [
        "# Returns the density of the multivariate normal\n",
        "# at each data point (row) of X_train\n",
        "p = multivariate_gaussian(X_train, mu, var)\n",
        "\n",
        "#Plotting code \n",
        "visualize_fit(X_train, mu, var)"
      ]
    },
    {
      "cell_type": "markdown",
      "id": "46a8cf49",
      "metadata": {
        "id": "46a8cf49"
      },
      "source": [
        "### 4.1.2 Selecting the threshold $\\epsilon$\n",
        "\n",
        "Now that you have estimated the Gaussian parameters, you can investigate which examples have a very high probability given this distribution and which examples have a very low probability (thus, are anomalies).  \n",
        "\n",
        "* The low probability examples are more likely to be the anomalies in our dataset. \n",
        "* One way to determine which examples are anomalies is to select a threshold based on a cross validation set. \n",
        "\n",
        "In this section, you will complete the code in `select_threshold` to select the threshold $\\varepsilon$ using the $F_1$ score on a cross validation set.\n",
        "\n",
        "* For this, we will use a cross validation set\n",
        "$\\{(x_{\\rm val}^{(1)}, y_{\\rm val}^{(1)}),\\ldots, (x_{\\rm val}^{(m_{\\rm val})}, y_{\\rm val}^{(m_{\\rm val})})\\}$, where the label $y=1$ corresponds to an anomalous example, and $y=0$ corresponds to a normal example. \n",
        "* For each cross validation example, we will compute $p(x_{\\rm val}^{(i)})$. The vector of all of these probabilities $p(x_{\\rm val}^{(1)}), \\ldots, p(x_{\\rm val}^{(m_{\\rm val})})$ is passed to `select_threshold` in the vector `p_val`. \n",
        "* The corresponding labels $y_{\\rm val}^{(1)}, \\ldots, y_{\\rm val}^{(m_{\\rm val})}$ are passed to the same function in the vector `y_val`."
      ]
    },
    {
      "cell_type": "markdown",
      "id": "c338e81c",
      "metadata": {
        "id": "c338e81c"
      },
      "source": [
        "<a name=\"ex02\"></a>\n",
        "### Exercise 2\n",
        "Please complete the `select_threshold` function below to find the best threshold to use for selecting outliers based on the results from the validation set (`p_val`) and the ground truth (`y_val`). \n",
        "\n",
        "* In the provided code `select_threshold`, there is already a loop that will try many different values of $\\varepsilon$ and select the best $\\varepsilon$ based on the $F_1$ score. \n",
        "\n",
        "* You need to implement code to calculate the F1 score from choosing `epsilon` as the threshold and place the value in `F1`. \n",
        "\n",
        "  * Recall that if an example $x$ has a low probability $p(x) < \\varepsilon$, then it is classified as an anomaly. \n",
        "        \n",
        "  * Then, you can compute precision and recall by: \n",
        "   $$\\begin{aligned}\n",
        "   prec = \\frac{tp}{tp+fp}\\\\\n",
        "   rec = \\frac{tp}{tp+fn},\n",
        "   \\end{aligned}$$ where\n",
        "    * $tp$ is the number of true positives: the ground truth label says it’s an anomaly and our algorithm correctly classified it as an anomaly.\n",
        "    * $fp$ is the number of false positives: the ground truth label says it’s not an anomaly, but our algorithm incorrectly classified it as an anomaly.\n",
        "    * $fn$ is the number of false negatives: the ground truth label says it’s an anomaly, but our algorithm incorrectly classified it as not being anomalous.\n",
        "\n",
        "  * The $F_1$ score is computed using precision ($prec$) and recall ($rec$) as follows:\n",
        "\n",
        "$$\\begin{aligned} F_1 = \\frac{2 \\cdot prec \\cdot rec}{prec + rec} \\end{aligned}$$ \n",
        "\n",
        "**Implementation Note:** \n",
        "In order to compute $tp$, $fp$ and $fn$, you may be able to use a vectorized implementation rather than a loop over all the examples.\n",
        "\n",
        "If you get stuck, you can check out the hints presented after the cell below to help you with the implementation."
      ]
    },
    {
      "cell_type": "code",
      "execution_count": 37,
      "id": "57ae0a0c",
      "metadata": {
        "id": "57ae0a0c"
      },
      "outputs": [],
      "source": [
        "def select_threshold(y_val, p_val): \n",
        "    \"\"\"\n",
        "    Finds the best threshold to use for selecting outliers \n",
        "    based on the results from a validation set (p_val) \n",
        "    and the ground truth (y_val)\n",
        "    \n",
        "    Args:\n",
        "        y_val (ndarray): Ground truth on validation set\n",
        "        p_val (ndarray): Results on validation set\n",
        "        \n",
        "    Returns:\n",
        "        epsilon (float): Threshold chosen \n",
        "        F1 (float):      F1 score by choosing epsilon as threshold\n",
        "    \"\"\" \n",
        "\n",
        "    best_epsilon = 0\n",
        "    best_F1 = 0\n",
        "    F1 = 0\n",
        "    \n",
        "    step_size = (max(p_val) - min(p_val)) / 1000\n",
        "    \n",
        "    for epsilon in np.arange(min(p_val), max(p_val), step_size):\n",
        "    \n",
        "        predictions = p_val < epsilon #________TO DO__________\n",
        "\n",
        "        tp = np.sum((predictions == 1) & (y_val == 1))  #________TO DO__________\n",
        "        fp = np.sum((predictions == 1) & (y_val == 0))  #________TO DO__________\n",
        "        fn = np.sum((predictions == 0) & (y_val == 1))  #________TO DO__________ \n",
        "        prec = tp / (tp + fp)\n",
        "        rec = tp / (tp + fn)\n",
        "\n",
        "        F1 = 2 * prec * rec / (prec + rec) #________TO DO__________\n",
        "        \n",
        "        \n",
        "        if F1 > best_F1:\n",
        "            best_F1 = F1\n",
        "            best_epsilon = epsilon\n",
        "        \n",
        "    return best_epsilon, best_F1"
      ]
    },
    {
      "cell_type": "markdown",
      "id": "4e79ffcc",
      "metadata": {
        "id": "4e79ffcc"
      },
      "source": [
        "<details>\n",
        "  <summary><font size=\"3\" color=\"darkgreen\"><b>Click for hints</b></font></summary>\n",
        "\n",
        "   * Here's how you can structure the overall implementation of this function for the vectorized implementation:\n",
        "     ```python  \n",
        "    def select_threshold(y_val, p_val): \n",
        "        best_epsilon = 0\n",
        "        best_F1 = 0\n",
        "        F1 = 0\n",
        "    \n",
        "        step_size = (max(p_val) - min(p_val)) / 1000\n",
        "    \n",
        "        for epsilon in np.arange(min(p_val), max(p_val), step_size):\n",
        "    \n",
        "            ### START CODE HERE ### \n",
        "            predictions = # Your code here to calculate predictions for each example using epsilon as threshold\n",
        "        \n",
        "            tp = # Your code here to calculate number of true positives\n",
        "            fp = # Your code here to calculate number of false positives\n",
        "            fn = # Your code here to calculate number of false negatives\n",
        "        \n",
        "            prec = # Your code here to calculate precision\n",
        "            rec = # Your code here to calculate recall\n",
        "        \n",
        "            F1 = # Your code here to calculate F1\n",
        "            ### END CODE HERE ### \n",
        "        \n",
        "            if F1 > best_F1:\n",
        "                best_F1 = F1\n",
        "                best_epsilon = epsilon\n",
        "        \n",
        "        return best_epsilon, best_F1\n",
        "    ```\n",
        "\n",
        "    If you're still stuck, you can check the hints presented below to figure out how to calculate each variable.\n",
        "    \n",
        "    <details>\n",
        "          <summary><font size=\"2\" color=\"darkblue\"><b>Hint to calculate predictions</b></font></summary>\n",
        "           &emsp; &emsp; If an example  𝑥  has a low probability  $p(x) < \\epsilon$ , then it is classified as an anomaly. To get predictions for each example (0/ False for normal and 1/True for anomaly), you can use <code>predictions = (p_val < epsilon)</code>\n",
        "    </details>\n",
        "    \n",
        "    <details>\n",
        "          <summary><font size=\"2\" color=\"darkblue\"><b>Hint to calculate tp, fp, fn</b></font></summary>\n",
        "           &emsp; &emsp; \n",
        "        <ul>\n",
        "          <li>If you have several binary values in an $n$-dimensional\n",
        "binary vector, you can find out how many values in this vector are 0 by using:  `np.sum(v == 0)`</li>\n",
        "          <li>You can also apply a logical *and* operator to such binary vectors. For instance,  `predictions` is a binary vector of the size of your number of cross validation set, where the $i$-th element is 1 if your algorithm considers $x_{\\rm val}^{(i)}$ an anomaly, and 0 otherwise. </li>\n",
        "          <li>You can then, for example, compute the number of false positives using:  \n",
        "<code>fp = sum((predictions == 1) & (y_val == 0))</code>.</li>\n",
        "        </ul>\n",
        "         <details>\n",
        "              <summary><font size=\"2\" color=\"blue\"><b>&emsp; &emsp; More hints to calculate tp, fn</b></font></summary>\n",
        "               &emsp; &emsp;\n",
        "             <ul>\n",
        "              <li>You can compute tp as <code> tp = np.sum((predictions == 1) & (y_val == 1))</code></li>\n",
        "              <li>You can compute tn as <code> fn = np.sum((predictions == 0) & (y_val == 1))</code></li>  \n",
        "              </ul>\n",
        "          </details>\n",
        "    </details>\n",
        "        \n",
        "    <details>\n",
        "          <summary><font size=\"2\" color=\"darkblue\"><b>Hint to calculate precision</b></font></summary>\n",
        "           &emsp; &emsp; You can calculate precision as <code>prec = tp / (tp + fp)</code>\n",
        "    </details>\n",
        "        \n",
        "    <details>\n",
        "          <summary><font size=\"2\" color=\"darkblue\"><b>Hint to calculate recall</b></font></summary>\n",
        "           &emsp; &emsp; You can calculate recall as <code>rec = tp / (tp + fn)</code>\n",
        "    </details>\n",
        "        \n",
        "    <details>\n",
        "          <summary><font size=\"2\" color=\"darkblue\"><b>Hint to calculate F1</b></font></summary>\n",
        "           &emsp; &emsp; You can calculate F1 as <code>F1 = 2 * prec * rec / (prec + rec)</code>\n",
        "    </details>\n",
        "    \n",
        "</details>"
      ]
    },
    {
      "cell_type": "markdown",
      "id": "c0adb39d",
      "metadata": {
        "id": "c0adb39d"
      },
      "source": [
        "You can check your implementation using the code below"
      ]
    },
    {
      "cell_type": "code",
      "execution_count": 17,
      "id": "eec35361",
      "metadata": {
        "id": "eec35361",
        "colab": {
          "base_uri": "https://localhost:8080/"
        },
        "outputId": "7028bb0f-0218-4489-c665-b42a82441be4"
      },
      "outputs": [
        {
          "output_type": "stream",
          "name": "stderr",
          "text": [
            "/usr/local/lib/python3.7/dist-packages/ipykernel_launcher.py:31: RuntimeWarning: invalid value encountered in long_scalars\n"
          ]
        },
        {
          "output_type": "stream",
          "name": "stdout",
          "text": [
            "Best epsilon found using cross-validation: 8.990853e-05\n",
            "Best F1-score on the Validation Set: 0.875000\n",
            "\u001b[92mAll tests passed!\n"
          ]
        }
      ],
      "source": [
        "p_val = multivariate_gaussian(X_val, mu, var)\n",
        "epsilon, F1 = select_threshold(y_val, p_val)\n",
        "\n",
        "print('Best epsilon found using cross-validation: %e' % epsilon)\n",
        "print('Best F1-score on the Validation Set: %f' % F1)\n",
        "    \n",
        "# UNIT TEST\n",
        "select_threshold_test(select_threshold)\n"
      ]
    },
    {
      "cell_type": "markdown",
      "id": "ffd00e88",
      "metadata": {
        "id": "ffd00e88"
      },
      "source": [
        "**Expected Output**:\n",
        "<table>\n",
        "  <tr>\n",
        "    <td> <b>Best epsilon found using cross-validation: <b>  </td> \n",
        "    <td> 8.99e-05</td> \n",
        "   </tr>    \n",
        "   <tr>\n",
        "    <td> <b>Best F1 on Cross Validation Set: <b>  </td>\n",
        "     <td> 0.875 </td> \n",
        "  </tr>\n",
        "</table>"
      ]
    },
    {
      "cell_type": "markdown",
      "id": "a4114d9a",
      "metadata": {
        "id": "a4114d9a"
      },
      "source": [
        "Let's visualize our anomaly detection output by circling the anomalies in the plot."
      ]
    },
    {
      "cell_type": "code",
      "execution_count": 18,
      "id": "a5b5aebd",
      "metadata": {
        "id": "a5b5aebd",
        "colab": {
          "base_uri": "https://localhost:8080/",
          "height": 312
        },
        "outputId": "cc2f838a-f81d-47ed-a1d5-d3615c8291d8"
      },
      "outputs": [
        {
          "output_type": "execute_result",
          "data": {
            "text/plain": [
              "[<matplotlib.lines.Line2D at 0x7f506de8c950>]"
            ]
          },
          "metadata": {},
          "execution_count": 18
        },
        {
          "output_type": "display_data",
          "data": {
            "text/plain": [
              "<Figure size 432x288 with 1 Axes>"
            ],
            "image/png": "[encoded data removed]"
          },
          "metadata": {
            "needs_background": "light"
          }
        }
      ],
      "source": [
        "# Find the outliers in the training set \n",
        "outliers = p < epsilon\n",
        "\n",
        "# Visualize the fit\n",
        "visualize_fit(X_train, mu, var)\n",
        "\n",
        "# Draw a red circle around those outliers\n",
        "plt.plot(X_train[outliers, 0], X_train[outliers, 1], 'ro',\n",
        "         markersize= 10,markerfacecolor='none', markeredgewidth=2)\n"
      ]
    },
    {
      "cell_type": "markdown",
      "id": "717ff5df",
      "metadata": {
        "id": "717ff5df"
      },
      "source": [
        "<a name=\"4.2\"></a>\n",
        "### 4.2 High-dimensional dataset\n",
        "\n",
        "Now,  we will run the anomaly detection algorithm that you implemented on a more realistic and much harder dataset.\n",
        "\n",
        "In this dataset, each example is described by 11 features, capturing many more properties of your compute servers.\n",
        "\n",
        "Let's start by loading the dataset.\n",
        "\n",
        "- The `load_data()` function shown below loads the data into variables `X_train_high`, `X_val_high` and `y_val_high`\n",
        "    -  `_high` is meant to distinguish these variables from the ones used in the previous part\n",
        "    - We will use `X_train_high` to fit Gaussian distribution \n",
        "    - We will use `X_val_high` and `y_val_high` as a cross validation set to select a threshold and determine anomalous vs normal examples"
      ]
    },
    {
      "cell_type": "code",
      "execution_count": 19,
      "id": "77e9b573",
      "metadata": {
        "id": "77e9b573"
      },
      "outputs": [],
      "source": [
        "# load the dataset\n",
        "X_train_high, X_val_high, y_val_high = load_data_multi()"
      ]
    },
    {
      "cell_type": "markdown",
      "id": "29f9e0ae",
      "metadata": {
        "id": "29f9e0ae"
      },
      "source": [
        "#### Check the dimensions of your variables\n",
        "\n",
        "Let's check the dimensions of these new variables to become familiar with the data"
      ]
    },
    {
      "cell_type": "code",
      "execution_count": 20,
      "id": "10e8167e",
      "metadata": {
        "id": "10e8167e",
        "colab": {
          "base_uri": "https://localhost:8080/"
        },
        "outputId": "00f39795-96d3-4149-d873-51dc5b98f65c"
      },
      "outputs": [
        {
          "output_type": "stream",
          "name": "stdout",
          "text": [
            "The shape of X_train_high is: (1000, 11)\n",
            "The shape of X_val_high is: (100, 11)\n",
            "The shape of y_val_high is:  (100,)\n"
          ]
        }
      ],
      "source": [
        "print ('The shape of X_train_high is:', X_train_high.shape)\n",
        "print ('The shape of X_val_high is:', X_val_high.shape)\n",
        "print ('The shape of y_val_high is: ', y_val_high.shape)"
      ]
    },
    {
      "cell_type": "markdown",
      "id": "0f92d629",
      "metadata": {
        "id": "0f92d629"
      },
      "source": [
        "#### Anomaly detection \n",
        "\n",
        "Now, let's run the anomaly detection algorithm on this new dataset.\n",
        "\n",
        "The code below will use your code to \n",
        "* Estimate the Gaussian parameters ($\\mu_i$ and $\\sigma_i^2$)\n",
        "* Evaluate the probabilities for both the training data `X_train_high` from which you estimated the Gaussian parameters, as well as for the the cross-validation set `X_val_high`. \n",
        "* Finally, it will use `select_threshold` to find the best threshold $\\varepsilon$. "
      ]
    },
    {
      "cell_type": "code",
      "execution_count": 21,
      "id": "187d8164",
      "metadata": {
        "id": "187d8164",
        "colab": {
          "base_uri": "https://localhost:8080/"
        },
        "outputId": "22e8d13b-c77a-4d11-d0dc-9d7209d58ee4"
      },
      "outputs": [
        {
          "output_type": "stream",
          "name": "stderr",
          "text": [
            "/usr/local/lib/python3.7/dist-packages/ipykernel_launcher.py:31: RuntimeWarning: invalid value encountered in long_scalars\n"
          ]
        },
        {
          "output_type": "stream",
          "name": "stdout",
          "text": [
            "Best epsilon found using cross-validation: 1.377229e-18\n",
            "Best F1 on Cross Validation Set:  0.615385\n",
            "# Anomalies found: 117\n"
          ]
        }
      ],
      "source": [
        "# Apply the same steps to the larger dataset\n",
        "\n",
        "# Estimate the Gaussian parameters\n",
        "mu_high, var_high = estimate_gaussian(X_train_high)\n",
        "\n",
        "# Evaluate the probabilites for the training set\n",
        "p_high = multivariate_gaussian(X_train_high, mu_high, var_high)\n",
        "\n",
        "# Evaluate the probabilites for the cross validation set\n",
        "p_val_high = multivariate_gaussian(X_val_high, mu_high, var_high)\n",
        "\n",
        "# Find the best threshold\n",
        "epsilon_high, F1_high = select_threshold(y_val_high, p_val_high)\n",
        "\n",
        "print('Best epsilon found using cross-validation: %e'% epsilon_high)\n",
        "print('Best F1 on Cross Validation Set:  %f'% F1_high)\n",
        "print('# Anomalies found: %d'% sum(p_high < epsilon_high))"
      ]
    },
    {
      "cell_type": "markdown",
      "id": "ccf5abbc",
      "metadata": {
        "id": "ccf5abbc"
      },
      "source": [
        "**Expected Output**:\n",
        "<table>\n",
        "  <tr>\n",
        "    <td> <b>Best epsilon found using cross-validation: <b>  </td> \n",
        "    <td> 1.38e-18</td> \n",
        "   </tr>    \n",
        "   <tr>\n",
        "    <td> <b>Best F1 on Cross Validation Set: <b>  </td>\n",
        "     <td> 0.615385 </td> \n",
        "  </tr>\n",
        "    <tr>\n",
        "    <td> <b># anomalies found: <b>  </td>\n",
        "     <td>  117 </td> \n",
        "  </tr>\n",
        "</table>"
      ]
    },
    {
      "cell_type": "markdown",
      "source": [
        "<a name=\"4.3\"></a>\n",
        "## 4.3 Multivariate Gaussian distribution \n",
        "\n",
        "<a name=\"ex03\"></a>\n",
        "### Exercise 3\n",
        "\n",
        "Complete the `estimate_multivariate_gaussian` function below to calculate `mu` (mean for each feature in `X`) and `covar` (Covariance matrix for each feature in `X`). \n",
        "\n",
        "You can estimate the parameters, ($\\mu_i$, $\\Sigma_i$), of the $i$-th\n",
        "feature by using the following equations. To estimate the mean, you will\n",
        "use the previously used equation:\n",
        "\n",
        "$$\\mu_i = \\frac{1}{m} \\sum_{j=1}^m x_i^{(j)}$$\n",
        "\n",
        "and for the covariance matrix in this case you should use:\n",
        "$$\\Sigma_i = \\frac{1}{m} \\sum_{j=1}^m (x_i^{(j)} - \\mu_i) (x_i^{(j)} - \\mu_i)^T$$\n",
        "\n"
      ],
      "metadata": {
        "id": "rCK0GfGBLLRD"
      },
      "id": "rCK0GfGBLLRD"
    },
    {
      "cell_type": "code",
      "execution_count": 29,
      "metadata": {
        "id": "1wB7cJ_cOPFy"
      },
      "outputs": [],
      "source": [
        "def estimate_multivariate_gaussian(X): \n",
        "    \"\"\"\n",
        "    Calculates mean and covariance of all features \n",
        "    in the dataset\n",
        "    \n",
        "    Args:\n",
        "        X (ndarray): (m, n) Data matrix\n",
        "    \n",
        "    Returns:\n",
        "        mu (ndarray): (n,) Mean of all features\n",
        "        covar (ndarray): (n,n) Covariance of all features\n",
        "    \"\"\"\n",
        "\n",
        "    m, n = X.shape\n",
        "    mu =  np.mean(X, axis=0)  #________TO DO__________\n",
        "    covar = np.cov(X, rowvar= False)  #________TO DO__________                          \n",
        "    return mu, covar"
      ],
      "id": "1wB7cJ_cOPFy"
    },
    {
      "cell_type": "markdown",
      "source": [
        "You can check if your implementation is correct by running the following test code:"
      ],
      "metadata": {
        "id": "Ddqp_BUUQk3m"
      },
      "id": "Ddqp_BUUQk3m"
    },
    {
      "cell_type": "code",
      "source": [
        "# Load the new dataset\n",
        "X_mvg, X_val_mvg, y_val_mvg, X_test_mvg, y_test_mvg = load_data_mvg()\n",
        "# Estimate mean and covariance of each feature\n",
        "mu_mvg, covar = estimate_multivariate_gaussian(X_mvg)              \n",
        "\n",
        "print(\"Mean of each feature:\", mu_mvg)\n",
        "print(\"Covariance of each feature:\", covar)"
      ],
      "metadata": {
        "id": "JYY3X01eQjXU",
        "colab": {
          "base_uri": "https://localhost:8080/"
        },
        "outputId": "cf050da5-f09a-49e7-f7bd-b1f96e9ecefb"
      },
      "execution_count": 31,
      "outputs": [
        {
          "output_type": "stream",
          "name": "stdout",
          "text": [
            "Mean of each feature: [17.54123749 19.8527749 ]\n",
            "Covariance of each feature: [[ 7.5046098  -5.26343172]\n",
            " [-5.26343172  7.83972661]]\n"
          ]
        }
      ],
      "id": "JYY3X01eQjXU"
    },
    {
      "cell_type": "markdown",
      "source": [
        "\n",
        "**Expected Output**:\n",
        "<table>\n",
        "  <tr>\n",
        "    <td> <b>Mean of each feature: <b>  </td> \n",
        "    <td> [17.54123749 19.8527749 ]</td> \n",
        "   </tr>    \n",
        "   <tr>\n",
        "    <td> <b>Covariance of each feature: <b>  </td>\n",
        "     <td> [[ 7.49710519 -5.25816829]\n",
        " [-5.25816829  7.83188688]] </td> \n",
        "  </tr>\n",
        "</table>\n",
        "\n"
      ],
      "metadata": {
        "id": "ShtYk3-HSWnT"
      },
      "id": "ShtYk3-HSWnT"
    },
    {
      "cell_type": "markdown",
      "source": [
        "<details>\n",
        "  <summary><font size=\"3\" color=\"darkgreen\"><b>Click for hints</b></font></summary>\n",
        "  \n",
        "   * In the computation of the covariance (`covar`) inside the `estimate_multivariate_gaussian()` function, you should use the function `np.matmul()` to perform matrix multiplication.\n",
        "   * Note that the dimensions of the final covariance matrix should be $2 \\times 2$\n",
        "    \n",
        "    <details>\n",
        "          <summary><font size=\"2\" color=\"darkblue\"><b>Click for another hint</b></font></summary>\n",
        "           &emsp; &emsp; If your matrix dimensions do not match, try switching the order of the vectors that are being multipliplied\n",
        "          \n",
        "    </details>\n",
        "    \n",
        "</details>"
      ],
      "metadata": {
        "id": "fzFTDuo9WBjY"
      },
      "id": "fzFTDuo9WBjY"
    },
    {
      "cell_type": "markdown",
      "source": [
        "Now that you have completed the code in `estimate_multivariate_gaussian`, we will visualize the contours of the fitted Gaussian distribution and predict the anomalies in the test set. \n",
        "\n"
      ],
      "metadata": {
        "id": "X3hmaGxcS6Qs"
      },
      "id": "X3hmaGxcS6Qs"
    },
    {
      "cell_type": "code",
      "source": [
        "# Returns the density of the multivariate normal\n",
        "# at each data point (row) of X_mvg\n",
        "\n",
        "p_mvg = multivariate_gaussian(X_mvg, mu_mvg, covar)\n",
        "# Evaluate the probabilites for the cross validation set\n",
        "\n",
        "p_val_mvg = multivariate_gaussian(X_val_mvg, mu_mvg, covar)\n",
        "\n",
        "# Find the best threshold\n",
        "epsilon_mvg, F1_mvg = select_threshold(y_val_mvg, p_val_mvg)\n",
        "\n",
        "print('Best epsilon found using cross-validation: %e'% epsilon_mvg)\n",
        "print('Best F1 on Cross Validation Set:  %f'% F1_mvg)\n",
        "print('# Anomalies found: %d'% sum(p_mvg < epsilon_mvg))\n",
        "outliers_mvg = p_mvg < epsilon_mvg\n",
        "\n",
        "#Plotting code \n",
        "visualize_fit(X_mvg, mu_mvg, covar)\n",
        "plt.plot(X_mvg[outliers_mvg, 0], X_mvg[outliers_mvg, 1], 'ro',\n",
        "         markersize= 10,markerfacecolor='none', markeredgewidth=2)"
      ],
      "metadata": {
        "id": "0Btu4u1rS7zi",
        "colab": {
          "base_uri": "https://localhost:8080/",
          "height": 382
        },
        "outputId": "108a3322-7f71-43d6-963f-9ebac641615a"
      },
      "execution_count": 32,
      "outputs": [
        {
          "output_type": "stream",
          "name": "stderr",
          "text": [
            "/usr/local/lib/python3.7/dist-packages/ipykernel_launcher.py:31: RuntimeWarning: invalid value encountered in long_scalars\n"
          ]
        },
        {
          "output_type": "stream",
          "name": "stdout",
          "text": [
            "Best epsilon found using cross-validation: 2.839075e-05\n",
            "Best F1 on Cross Validation Set:  1.000000\n",
            "# Anomalies found: 0\n"
          ]
        },
        {
          "output_type": "execute_result",
          "data": {
            "text/plain": [
              "[<matplotlib.lines.Line2D at 0x7f506d246b50>]"
            ]
          },
          "metadata": {},
          "execution_count": 32
        },
        {
          "output_type": "display_data",
          "data": {
            "text/plain": [
              "<Figure size 432x288 with 1 Axes>"
            ],
            "image/png": "[encoded data removed]"
          },
          "metadata": {
            "needs_background": "light"
          }
        }
      ],
      "id": "0Btu4u1rS7zi"
    },
    {
      "cell_type": "markdown",
      "source": [
        "The next step will be to feed the trained system with a test set never seen before, to evaluate its performance. Your next task is to complete the function  `compute_test_F1` that will be used to evaluate the correctness of the predictions. \n",
        "\n",
        "---\n",
        "\n"
      ],
      "metadata": {
        "id": "Zp7PhuNxfi_l"
      },
      "id": "Zp7PhuNxfi_l"
    },
    {
      "cell_type": "code",
      "source": [
        "def compute_test_F1(y_test, p_test, epsilon): \n",
        "    \"\"\"\n",
        "    Computes F1 score given a test set, ground truth and epsilon\n",
        "    \n",
        "    Args:\n",
        "        y_test(ndarray): Ground truth on  test set\n",
        "        p_test (ndarray): Results on test set\n",
        "        epsilon (float): Threshold chosen \n",
        "        \n",
        "    Returns:\n",
        "        \n",
        "        F1 (float):      F1 score by choosing epsilon as threshold\n",
        "    \"\"\" \n",
        "\n",
        "    predictions = p_test < epsilon #________TO DO__________\n",
        "\n",
        "    tp = np.sum((predictions == 1) & (y_test == 1)) #________TO DO__________\n",
        "    fp = np.sum((predictions == 1) & (y_test == 0)) #________TO DO__________\n",
        "    fn = np.sum((predictions == 0) & (y_test == 1)) #________TO DO__________\n",
        "\n",
        "    prec = tp / (tp + fp)\n",
        "    rec = tp / (tp + fn)\n",
        "\n",
        "    F1 = 2 * prec * rec / (prec + rec)  #________TO DO__________\n",
        "\n",
        "        \n",
        "    return F1"
      ],
      "metadata": {
        "id": "gesBBj1zUAs1"
      },
      "execution_count": 38,
      "outputs": [],
      "id": "gesBBj1zUAs1"
    },
    {
      "cell_type": "markdown",
      "source": [
        "The final step will be to test and evaluate the performance of the system on the given test set:"
      ],
      "metadata": {
        "id": "Hmu30ov_g2U8"
      },
      "id": "Hmu30ov_g2U8"
    },
    {
      "cell_type": "code",
      "source": [
        "\n",
        "p_test_mvg = multivariate_gaussian(X_test_mvg, mu_mvg, covar)\n",
        "epsilon, F1 = select_threshold(y_val_mvg, p_val_mvg)\n",
        "\n",
        "F1_test=compute_test_F1(y_test_mvg, p_test_mvg, epsilon_mvg)\n",
        "print('F1 score on Test Set:  %f'% F1_test)\n",
        "print('# Anomalies found: %d'% sum(p_test_mvg < epsilon_mvg))\n",
        "outliers_mvg_test = p_test_mvg < epsilon_mvg\n",
        "\n",
        "#Plotting code \n",
        "visualize_fit(X_test_mvg, mu_mvg, covar)\n",
        "plt.plot(X_test_mvg[outliers_mvg_test, 0],X_test_mvg[outliers_mvg_test, 1], 'ro',\n",
        "         markersize= 10,markerfacecolor='none', markeredgewidth=2)"
      ],
      "metadata": {
        "id": "d3qY-JSnVAxh",
        "colab": {
          "base_uri": "https://localhost:8080/",
          "height": 364
        },
        "outputId": "c7d34771-2866-490e-b48c-e99fbffa9d34"
      },
      "execution_count": 39,
      "outputs": [
        {
          "output_type": "stream",
          "name": "stdout",
          "text": [
            "F1 score on Test Set:  1.000000\n",
            "# Anomalies found: 6\n"
          ]
        },
        {
          "output_type": "stream",
          "name": "stderr",
          "text": [
            "/usr/local/lib/python3.7/dist-packages/ipykernel_launcher.py:31: RuntimeWarning: invalid value encountered in long_scalars\n"
          ]
        },
        {
          "output_type": "execute_result",
          "data": {
            "text/plain": [
              "[<matplotlib.lines.Line2D at 0x7f506d010310>]"
            ]
          },
          "metadata": {},
          "execution_count": 39
        },
        {
          "output_type": "display_data",
          "data": {
            "text/plain": [
              "<Figure size 432x288 with 1 Axes>"
            ],
            "image/png": "[encoded data removed]"
          },
          "metadata": {
            "needs_background": "light"
          }
        }
      ],
      "id": "d3qY-JSnVAxh"
    },
    {
      "cell_type": "markdown",
      "source": [
        "**Expected Output**:\n",
        "<table>    \n",
        "   <tr>\n",
        "    <td> <b>F1 on Test Set: <b>  </td>\n",
        "     <td> 1.0000 </td> \n",
        "  </tr>\n",
        "    <tr>\n",
        "    <td> <b># anomalies found: <b>  </td>\n",
        "     <td>  6 </td> \n",
        "  </tr>\n",
        "</table>"
      ],
      "metadata": {
        "id": "rllO0gMzMJhA"
      },
      "id": "rllO0gMzMJhA"
    },
    {
      "cell_type": "markdown",
      "source": [
        "To visualize the different behaviour of the multivariate gaussian model and the original model, we can feed this dataset to the original model to see how well it performs."
      ],
      "metadata": {
        "id": "WrLN3et9NMSS"
      },
      "id": "WrLN3et9NMSS"
    },
    {
      "cell_type": "code",
      "source": [
        "#estimate mu and variance following the original model\n",
        "mu, var = estimate_gaussian(X_mvg)\n",
        "\n",
        "#evaluate the probabilities for all of the sets\n",
        "p_g = multivariate_gaussian(X_mvg, mu, var)\n",
        "p_val_g = multivariate_gaussian(X_val_mvg, mu, var)\n",
        "p_test_g = multivariate_gaussian(X_test_mvg, mu, var)\n",
        "\n",
        "#Find the best epsilon on the validation set\n",
        "epsilon_g, F1_g = select_threshold(y_val_mvg, p_val_g)\n",
        "\n",
        "#Test the performance of the result\n",
        "F1_test=compute_test_F1(y_test_mvg, p_test_g, epsilon_g)\n",
        "print('F1 on Test Set:  %f'% F1_test)\n",
        "print('# Anomalies found: %d'% sum(p_test_g < epsilon_g))\n",
        "outliers_g_test = p_test_g < epsilon_g\n",
        "\n",
        "#Plotting code \n",
        "visualize_fit(X_test_mvg, mu, var)\n",
        "plt.plot(X_test_mvg[outliers_g_test, 0],X_test_mvg[outliers_g_test, 1], 'ro',\n",
        "         markersize= 10,markerfacecolor='none', markeredgewidth=2)"
      ],
      "metadata": {
        "id": "tuO5gU6ldfTf",
        "colab": {
          "base_uri": "https://localhost:8080/",
          "height": 364
        },
        "outputId": "68090ae6-d289-4452-89ad-feebea672f0e"
      },
      "execution_count": 40,
      "outputs": [
        {
          "output_type": "stream",
          "name": "stdout",
          "text": [
            "F1 on Test Set:  0.727273\n",
            "# Anomalies found: 5\n"
          ]
        },
        {
          "output_type": "stream",
          "name": "stderr",
          "text": [
            "/usr/local/lib/python3.7/dist-packages/ipykernel_launcher.py:31: RuntimeWarning: invalid value encountered in long_scalars\n"
          ]
        },
        {
          "output_type": "execute_result",
          "data": {
            "text/plain": [
              "[<matplotlib.lines.Line2D at 0x7f506dca1610>]"
            ]
          },
          "metadata": {},
          "execution_count": 40
        },
        {
          "output_type": "display_data",
          "data": {
            "text/plain": [
              "<Figure size 432x288 with 1 Axes>"
            ],
            "image/png": "[encoded data removed]"
          },
          "metadata": {
            "needs_background": "light"
          }
        }
      ],
      "id": "tuO5gU6ldfTf"
    },
    {
      "cell_type": "markdown",
      "source": [
        "**Expected Output**:\n",
        "<table>    \n",
        "   <tr>\n",
        "    <td> <b>F1 on Test Set: <b>  </td>\n",
        "     <td> 0.727273 </td> \n",
        "  </tr>\n",
        "    <tr>\n",
        "    <td> <b># anomalies found: <b>  </td>\n",
        "     <td>  5 </td> \n",
        "  </tr>\n",
        "</table>"
      ],
      "metadata": {
        "id": "bjfnnVJiMbDv"
      },
      "id": "bjfnnVJiMbDv"
    }
  ],
  "metadata": {
    "kernelspec": {
      "display_name": "Python 3 (ipykernel)",
      "language": "python",
      "name": "python3"
    },
    "language_info": {
      "codemirror_mode": {
        "name": "ipython",
        "version": 3
      },
      "file_extension": ".py",
      "mimetype": "text/x-python",
      "name": "python",
      "nbconvert_exporter": "python",
      "pygments_lexer": "ipython3",
      "version": "3.9.12"
    },
    "colab": {
      "provenance": []
    }
  },
  "nbformat": 4,
  "nbformat_minor": 5
}